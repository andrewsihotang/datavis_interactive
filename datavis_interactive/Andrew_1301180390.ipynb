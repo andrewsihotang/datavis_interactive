{
  "nbformat": 4,
  "nbformat_minor": 0,
  "metadata": {
    "colab": {
      "name": "Andrew-1301180390.ipynb",
      "provenance": [],
      "collapsed_sections": []
    },
    "kernelspec": {
      "name": "python3",
      "display_name": "Python 3"
    },
    "language_info": {
      "name": "python"
    }
  },
  "cells": [
    {
      "cell_type": "markdown",
      "metadata": {
        "id": "K9A7kela_fPb"
      },
      "source": [
        "Andrew (1301180390) IF4202"
      ]
    },
    {
      "cell_type": "code",
      "metadata": {
        "id": "cUsGAm1f_htV"
      },
      "source": [
        "#import library yang dibutuhkan\n",
        "\n",
        "import pandas as pd\n",
        "import numpy as np\n",
        "from bokeh.io import output_notebook\n",
        "from bokeh.plotting import figure, show, reset_output\n",
        "from bokeh.io import output_file\n",
        "from bokeh.models.widgets import Tabs, Panel\n",
        "from bokeh.models import ColumnDataSource, CategoricalColorMapper, NumeralTickFormatter, HoverTool, CDSView, GroupFilter, Div\n",
        "from bokeh.layouts import gridplot, column"
      ],
      "execution_count": null,
      "outputs": []
    },
    {
      "cell_type": "code",
      "metadata": {
        "colab": {
          "base_uri": "https://localhost:8080/"
        },
        "id": "S4g9sXw2cJpm",
        "outputId": "3fdd72a7-2cf2-437e-fcd0-7652b391d776"
      },
      "source": [
        "# mount to google drive\n",
        "from google.colab import drive\n",
        "drive.mount(\"/content/drive\")"
      ],
      "execution_count": null,
      "outputs": [
        {
          "output_type": "stream",
          "text": [
            "Mounted at /content/drive\n"
          ],
          "name": "stdout"
        }
      ]
    },
    {
      "cell_type": "code",
      "metadata": {
        "colab": {
          "base_uri": "https://localhost:8080/"
        },
        "id": "iGuSIGfYcMpY",
        "outputId": "99430749-aac0-4eaf-95a4-e8af814ff5c3"
      },
      "source": [
        "cd drive/MyDrive/Colab\\ Notebooks/visdat/tubes interactive"
      ],
      "execution_count": null,
      "outputs": [
        {
          "output_type": "stream",
          "text": [
            "/content/drive/MyDrive/Colab Notebooks/visdat/tubes interactive\n"
          ],
          "name": "stdout"
        }
      ]
    },
    {
      "cell_type": "code",
      "metadata": {
        "colab": {
          "base_uri": "https://localhost:8080/"
        },
        "id": "kuXwNLOfcyA_",
        "outputId": "c1da2e52-819d-42a1-e130-4de0ba6c4244"
      },
      "source": [
        "!ls"
      ],
      "execution_count": null,
      "outputs": [
        {
          "output_type": "stream",
          "text": [
            "Andrew-1301180390.ipynb  stock_market.csv\n"
          ],
          "name": "stdout"
        }
      ]
    },
    {
      "cell_type": "code",
      "metadata": {
        "id": "qowNXOlpcK7V"
      },
      "source": [
        "# membaca file \n",
        "DT = 'stock_market.csv'\n",
        "dataset = pd.read_csv(DT, parse_dates=['Date']) "
      ],
      "execution_count": null,
      "outputs": []
    },
    {
      "cell_type": "code",
      "metadata": {
        "colab": {
          "base_uri": "https://localhost:8080/",
          "height": 424
        },
        "id": "O38LCLzdbBKz",
        "outputId": "62ad5b65-c191-493f-fcc0-f3b73f5bf268"
      },
      "source": [
        "# data exploration\n",
        "dataset = dataset.rename(columns = {'Adj Close': 'AdjClose'}, inplace = False)\n",
        "dataset.sort_values(by ='Date')"
      ],
      "execution_count": null,
      "outputs": [
        {
          "output_type": "execute_result",
          "data": {
            "text/html": [
              "<div>\n",
              "<style scoped>\n",
              "    .dataframe tbody tr th:only-of-type {\n",
              "        vertical-align: middle;\n",
              "    }\n",
              "\n",
              "    .dataframe tbody tr th {\n",
              "        vertical-align: top;\n",
              "    }\n",
              "\n",
              "    .dataframe thead th {\n",
              "        text-align: right;\n",
              "    }\n",
              "</style>\n",
              "<table border=\"1\" class=\"dataframe\">\n",
              "  <thead>\n",
              "    <tr style=\"text-align: right;\">\n",
              "      <th></th>\n",
              "      <th>Date</th>\n",
              "      <th>AdjClose</th>\n",
              "      <th>Volume</th>\n",
              "      <th>Day_Perc_Change</th>\n",
              "      <th>Name</th>\n",
              "    </tr>\n",
              "  </thead>\n",
              "  <tbody>\n",
              "    <tr>\n",
              "      <th>0</th>\n",
              "      <td>2018-10-22</td>\n",
              "      <td>26153.150390</td>\n",
              "      <td>2222812200</td>\n",
              "      <td>2.315014</td>\n",
              "      <td>HANG SENG</td>\n",
              "    </tr>\n",
              "    <tr>\n",
              "      <th>992</th>\n",
              "      <td>2018-10-22</td>\n",
              "      <td>22614.820310</td>\n",
              "      <td>63000</td>\n",
              "      <td>0.367211</td>\n",
              "      <td>NIKKEI</td>\n",
              "    </tr>\n",
              "    <tr>\n",
              "      <th>491</th>\n",
              "      <td>2018-10-22</td>\n",
              "      <td>7468.629883</td>\n",
              "      <td>2282400000</td>\n",
              "      <td>0.263123</td>\n",
              "      <td>NASDAQ</td>\n",
              "    </tr>\n",
              "    <tr>\n",
              "      <th>1</th>\n",
              "      <td>2018-10-23</td>\n",
              "      <td>25346.550780</td>\n",
              "      <td>1772912000</td>\n",
              "      <td>-3.084139</td>\n",
              "      <td>HANG SENG</td>\n",
              "    </tr>\n",
              "    <tr>\n",
              "      <th>993</th>\n",
              "      <td>2018-10-23</td>\n",
              "      <td>22010.779300</td>\n",
              "      <td>80200</td>\n",
              "      <td>-2.670996</td>\n",
              "      <td>NIKKEI</td>\n",
              "    </tr>\n",
              "    <tr>\n",
              "      <th>...</th>\n",
              "      <td>...</td>\n",
              "      <td>...</td>\n",
              "      <td>...</td>\n",
              "      <td>...</td>\n",
              "      <td>...</td>\n",
              "    </tr>\n",
              "    <tr>\n",
              "      <th>990</th>\n",
              "      <td>2020-10-15</td>\n",
              "      <td>11713.870120</td>\n",
              "      <td>3304490000</td>\n",
              "      <td>-0.466154</td>\n",
              "      <td>NASDAQ</td>\n",
              "    </tr>\n",
              "    <tr>\n",
              "      <th>991</th>\n",
              "      <td>2020-10-16</td>\n",
              "      <td>11671.559570</td>\n",
              "      <td>3156270000</td>\n",
              "      <td>-0.361200</td>\n",
              "      <td>NASDAQ</td>\n",
              "    </tr>\n",
              "    <tr>\n",
              "      <th>1472</th>\n",
              "      <td>2020-10-16</td>\n",
              "      <td>23410.630860</td>\n",
              "      <td>48100</td>\n",
              "      <td>-0.410936</td>\n",
              "      <td>NIKKEI</td>\n",
              "    </tr>\n",
              "    <tr>\n",
              "      <th>490</th>\n",
              "      <td>2020-10-16</td>\n",
              "      <td>24386.789060</td>\n",
              "      <td>2697525100</td>\n",
              "      <td>0.944801</td>\n",
              "      <td>HANG SENG</td>\n",
              "    </tr>\n",
              "    <tr>\n",
              "      <th>1473</th>\n",
              "      <td>2020-10-19</td>\n",
              "      <td>23671.130860</td>\n",
              "      <td>0</td>\n",
              "      <td>1.112742</td>\n",
              "      <td>NIKKEI</td>\n",
              "    </tr>\n",
              "  </tbody>\n",
              "</table>\n",
              "<p>1474 rows × 5 columns</p>\n",
              "</div>"
            ],
            "text/plain": [
              "           Date      AdjClose      Volume  Day_Perc_Change       Name\n",
              "0    2018-10-22  26153.150390  2222812200         2.315014  HANG SENG\n",
              "992  2018-10-22  22614.820310       63000         0.367211     NIKKEI\n",
              "491  2018-10-22   7468.629883  2282400000         0.263123     NASDAQ\n",
              "1    2018-10-23  25346.550780  1772912000        -3.084139  HANG SENG\n",
              "993  2018-10-23  22010.779300       80200        -2.670996     NIKKEI\n",
              "...         ...           ...         ...              ...        ...\n",
              "990  2020-10-15  11713.870120  3304490000        -0.466154     NASDAQ\n",
              "991  2020-10-16  11671.559570  3156270000        -0.361200     NASDAQ\n",
              "1472 2020-10-16  23410.630860       48100        -0.410936     NIKKEI\n",
              "490  2020-10-16  24386.789060  2697525100         0.944801  HANG SENG\n",
              "1473 2020-10-19  23671.130860           0         1.112742     NIKKEI\n",
              "\n",
              "[1474 rows x 5 columns]"
            ]
          },
          "metadata": {
            "tags": []
          },
          "execution_count": 6
        }
      ]
    },
    {
      "cell_type": "code",
      "metadata": {
        "colab": {
          "base_uri": "https://localhost:8080/"
        },
        "id": "P50hTmCvf99L",
        "outputId": "0a384e40-9eee-4422-bb45-d042b545888f"
      },
      "source": [
        "# jumlah data\n",
        "dataset.shape"
      ],
      "execution_count": null,
      "outputs": [
        {
          "output_type": "execute_result",
          "data": {
            "text/plain": [
              "(1474, 5)"
            ]
          },
          "metadata": {
            "tags": []
          },
          "execution_count": 7
        }
      ]
    },
    {
      "cell_type": "code",
      "metadata": {
        "colab": {
          "base_uri": "https://localhost:8080/"
        },
        "id": "B5z-NPwxMgxo",
        "outputId": "c60cf014-01c9-4ff8-d4ad-cec92b5974ba"
      },
      "source": [
        "dataset.dtypes"
      ],
      "execution_count": null,
      "outputs": [
        {
          "output_type": "execute_result",
          "data": {
            "text/plain": [
              "Date               datetime64[ns]\n",
              "AdjClose                  float64\n",
              "Volume                      int64\n",
              "Day_Perc_Change           float64\n",
              "Name                       object\n",
              "dtype: object"
            ]
          },
          "metadata": {
            "tags": []
          },
          "execution_count": 8
        }
      ]
    },
    {
      "cell_type": "code",
      "metadata": {
        "colab": {
          "base_uri": "https://localhost:8080/"
        },
        "id": "fz_AGSYBJHZp",
        "outputId": "d631826c-c5d1-43d1-fadc-766c292e456a"
      },
      "source": [
        "# mengecek duplikasi data\n",
        "dupeCheck = dataset.duplicated()\n",
        "print('Duplikat data = %d' % (dupeCheck.sum()))"
      ],
      "execution_count": null,
      "outputs": [
        {
          "output_type": "stream",
          "text": [
            "Duplikat data = 0\n"
          ],
          "name": "stdout"
        }
      ]
    },
    {
      "cell_type": "code",
      "metadata": {
        "colab": {
          "base_uri": "https://localhost:8080/"
        },
        "id": "aAAn7p6lJNrT",
        "outputId": "03dfbe91-ec20-4960-96d2-6e8a85d2858b"
      },
      "source": [
        "# mengecek missing value\n",
        "missingdata=dataset.isnull().sum().sort_values(ascending = False)\n",
        "print(missingdata)"
      ],
      "execution_count": null,
      "outputs": [
        {
          "output_type": "stream",
          "text": [
            "Name               0\n",
            "Day_Perc_Change    0\n",
            "Volume             0\n",
            "AdjClose           0\n",
            "Date               0\n",
            "dtype: int64\n"
          ],
          "name": "stdout"
        }
      ]
    },
    {
      "cell_type": "markdown",
      "metadata": {
        "id": "q28sbOwnX93_"
      },
      "source": [
        "membuat figure untuk adj close, volume, dan day percentage change, serta memilih tools yang akan tersedia nantinya"
      ]
    },
    {
      "cell_type": "code",
      "metadata": {
        "id": "9-1msBte_7J8"
      },
      "source": [
        "# memnbuat figure untuk adjclose, volume, dan day percentage change\n",
        "output_notebook() # menampilkan output pada notebook\n",
        "\n",
        "# memilih tools\n",
        "select_tools = ['pan', 'box_select', 'wheel_zoom', 'tap', 'reset']\n",
        "\n",
        "FAdj = figure(x_axis_type='datetime', plot_height=500, plot_width=600, title='Adj Close', toolbar_location=\"below\", tools=select_tools, x_axis_label='Date', y_axis_label='Adj Close')\n",
        "\n",
        "FVolume = figure(x_axis_type='datetime', plot_height=500, plot_width=600, title='Volume', toolbar_location=\"below\", tools=select_tools, x_axis_label='Date', y_axis_label='Volume')\n",
        "\n",
        "FDayPerc = figure(x_axis_type='datetime', plot_height=500, plot_width=600, title='Day_Perc_Change', toolbar_location=\"below\", tools=select_tools, x_axis_label='Date', y_axis_label='Day_Perc_Change')"
      ],
      "execution_count": null,
      "outputs": []
    },
    {
      "cell_type": "code",
      "metadata": {
        "id": "dAtpmx_JCm_H"
      },
      "source": [
        "# mengubah dataset ke columdatasource\n",
        "datasetFF = ColumnDataSource(dataset)"
      ],
      "execution_count": null,
      "outputs": []
    },
    {
      "cell_type": "code",
      "metadata": {
        "id": "45cDgvSqM2WW"
      },
      "source": [
        "# membuat view dan filter untuk masing-masing indeks saham\n",
        "# hangseng\n",
        "FILhangseng = [GroupFilter(column_name='Name', group='HANG SENG')]\n",
        "VIEWhangseng = CDSView(source=datasetFF, filters=FILhangseng)\n",
        "# nikkei\n",
        "FILnikkei = [GroupFilter(column_name='Name', group='NIKKEI')]\n",
        "VIEWnikkei = CDSView(source=datasetFF, filters=FILnikkei)\n",
        "# nasdaq\n",
        "FILnasdaq = [GroupFilter(column_name='Name', group='NASDAQ')]\n",
        "VIEWnasdaq = CDSView(source=datasetFF, filters=FILnasdaq)"
      ],
      "execution_count": null,
      "outputs": []
    },
    {
      "cell_type": "code",
      "metadata": {
        "id": "ByBqiGz5OSdh"
      },
      "source": [
        "# membuat dictionary untuk circle dan indeks saham\n",
        "DICTcircle = {'source': datasetFF, 'size': 4, 'alpha': 0.7, 'selection_color':'red', 'nonselection_color':'lightgray', 'nonselection_alpha': 0.3, 'muted_alpha': 0.1} #circle\n",
        "DICThangseng = {'view': VIEWhangseng, 'color': '#eb6777', 'legend': 'HANG SENG'} #hangseng\n",
        "DICTnikkei = {'view': VIEWnikkei, 'color': '#e0e38f', 'legend': 'NIKKEI'} #nikkei\n",
        "DICTnasdaq = {'view': VIEWnasdaq, 'color': '#073278', 'legend': 'NASDAQ'} #nasdaq"
      ],
      "execution_count": null,
      "outputs": []
    },
    {
      "cell_type": "code",
      "metadata": {
        "colab": {
          "base_uri": "https://localhost:8080/",
          "height": 201
        },
        "id": "BxcdjUSDHjp0",
        "outputId": "7c736d33-2c82-4c7d-aaa1-6dac75ce0208"
      },
      "source": [
        "# menambah data indeks saham dengan bentuk circle untuk figure\n",
        "# utuk AdjClose\n",
        "FAdj.circle(x='Date', y='AdjClose', **DICTcircle, **DICThangseng)\n",
        "FAdj.circle(x='Date', y='AdjClose', **DICTcircle, **DICTnikkei)\n",
        "FAdj.circle(x='Date', y='AdjClose', **DICTcircle, **DICTnasdaq)\n",
        "# untuk Volume\n",
        "FVolume.circle(x='Date', y='Volume', **DICTcircle, **DICThangseng)\n",
        "FVolume.circle(x='Date', y='Volume', **DICTcircle, **DICTnikkei)\n",
        "FVolume.circle(x='Date', y='Volume', **DICTcircle, **DICTnasdaq)\n",
        "# untuk Day_Perc_Change\n",
        "FDayPerc.circle(x='Date', y='Day_Perc_Change', **DICTcircle, **DICThangseng)\n",
        "FDayPerc.circle(x='Date', y='Day_Perc_Change', **DICTcircle, **DICTnikkei)\n",
        "FDayPerc.circle(x='Date', y='Day_Perc_Change', **DICTcircle, **DICTnasdaq)"
      ],
      "execution_count": null,
      "outputs": [
        {
          "output_type": "stream",
          "text": [
            "BokehDeprecationWarning: 'legend' keyword is deprecated, use explicit 'legend_label', 'legend_field', or 'legend_group' keywords instead\n",
            "BokehDeprecationWarning: 'legend' keyword is deprecated, use explicit 'legend_label', 'legend_field', or 'legend_group' keywords instead\n",
            "BokehDeprecationWarning: 'legend' keyword is deprecated, use explicit 'legend_label', 'legend_field', or 'legend_group' keywords instead\n",
            "BokehDeprecationWarning: 'legend' keyword is deprecated, use explicit 'legend_label', 'legend_field', or 'legend_group' keywords instead\n",
            "BokehDeprecationWarning: 'legend' keyword is deprecated, use explicit 'legend_label', 'legend_field', or 'legend_group' keywords instead\n",
            "BokehDeprecationWarning: 'legend' keyword is deprecated, use explicit 'legend_label', 'legend_field', or 'legend_group' keywords instead\n",
            "BokehDeprecationWarning: 'legend' keyword is deprecated, use explicit 'legend_label', 'legend_field', or 'legend_group' keywords instead\n",
            "BokehDeprecationWarning: 'legend' keyword is deprecated, use explicit 'legend_label', 'legend_field', or 'legend_group' keywords instead\n",
            "BokehDeprecationWarning: 'legend' keyword is deprecated, use explicit 'legend_label', 'legend_field', or 'legend_group' keywords instead\n"
          ],
          "name": "stderr"
        },
        {
          "output_type": "execute_result",
          "data": {
            "text/html": [
              "<div style=\"display: table;\"><div style=\"display: table-row;\"><div style=\"display: table-cell;\"><b title=\"bokeh.models.renderers.GlyphRenderer\">GlyphRenderer</b>(</div><div style=\"display: table-cell;\">id&nbsp;=&nbsp;'1342', <span id=\"1367\" style=\"cursor: pointer;\">&hellip;)</span></div></div><div class=\"1366\" style=\"display: none;\"><div style=\"display: table-cell;\"></div><div style=\"display: table-cell;\">data_source&nbsp;=&nbsp;ColumnDataSource(id='1095', ...),</div></div><div class=\"1366\" style=\"display: none;\"><div style=\"display: table-cell;\"></div><div style=\"display: table-cell;\">glyph&nbsp;=&nbsp;Circle(id='1338', ...),</div></div><div class=\"1366\" style=\"display: none;\"><div style=\"display: table-cell;\"></div><div style=\"display: table-cell;\">hover_glyph&nbsp;=&nbsp;None,</div></div><div class=\"1366\" style=\"display: none;\"><div style=\"display: table-cell;\"></div><div style=\"display: table-cell;\">js_event_callbacks&nbsp;=&nbsp;{},</div></div><div class=\"1366\" style=\"display: none;\"><div style=\"display: table-cell;\"></div><div style=\"display: table-cell;\">js_property_callbacks&nbsp;=&nbsp;{},</div></div><div class=\"1366\" style=\"display: none;\"><div style=\"display: table-cell;\"></div><div style=\"display: table-cell;\">level&nbsp;=&nbsp;'glyph',</div></div><div class=\"1366\" style=\"display: none;\"><div style=\"display: table-cell;\"></div><div style=\"display: table-cell;\">muted&nbsp;=&nbsp;False,</div></div><div class=\"1366\" style=\"display: none;\"><div style=\"display: table-cell;\"></div><div style=\"display: table-cell;\">muted_glyph&nbsp;=&nbsp;Circle(id='1341', ...),</div></div><div class=\"1366\" style=\"display: none;\"><div style=\"display: table-cell;\"></div><div style=\"display: table-cell;\">name&nbsp;=&nbsp;None,</div></div><div class=\"1366\" style=\"display: none;\"><div style=\"display: table-cell;\"></div><div style=\"display: table-cell;\">nonselection_glyph&nbsp;=&nbsp;Circle(id='1339', ...),</div></div><div class=\"1366\" style=\"display: none;\"><div style=\"display: table-cell;\"></div><div style=\"display: table-cell;\">selection_glyph&nbsp;=&nbsp;Circle(id='1340', ...),</div></div><div class=\"1366\" style=\"display: none;\"><div style=\"display: table-cell;\"></div><div style=\"display: table-cell;\">subscribed_events&nbsp;=&nbsp;[],</div></div><div class=\"1366\" style=\"display: none;\"><div style=\"display: table-cell;\"></div><div style=\"display: table-cell;\">syncable&nbsp;=&nbsp;True,</div></div><div class=\"1366\" style=\"display: none;\"><div style=\"display: table-cell;\"></div><div style=\"display: table-cell;\">tags&nbsp;=&nbsp;[],</div></div><div class=\"1366\" style=\"display: none;\"><div style=\"display: table-cell;\"></div><div style=\"display: table-cell;\">view&nbsp;=&nbsp;CDSView(id='1101', ...),</div></div><div class=\"1366\" style=\"display: none;\"><div style=\"display: table-cell;\"></div><div style=\"display: table-cell;\">visible&nbsp;=&nbsp;True,</div></div><div class=\"1366\" style=\"display: none;\"><div style=\"display: table-cell;\"></div><div style=\"display: table-cell;\">x_range_name&nbsp;=&nbsp;'default',</div></div><div class=\"1366\" style=\"display: none;\"><div style=\"display: table-cell;\"></div><div style=\"display: table-cell;\">y_range_name&nbsp;=&nbsp;'default')</div></div></div>\n",
              "<script>\n",
              "(function() {\n",
              "  var expanded = false;\n",
              "  var ellipsis = document.getElementById(\"1367\");\n",
              "  ellipsis.addEventListener(\"click\", function() {\n",
              "    var rows = document.getElementsByClassName(\"1366\");\n",
              "    for (var i = 0; i < rows.length; i++) {\n",
              "      var el = rows[i];\n",
              "      el.style.display = expanded ? \"none\" : \"table-row\";\n",
              "    }\n",
              "    ellipsis.innerHTML = expanded ? \"&hellip;)\" : \"&lsaquo;&lsaquo;&lsaquo;\";\n",
              "    expanded = !expanded;\n",
              "  });\n",
              "})();\n",
              "</script>\n"
            ],
            "text/plain": [
              "GlyphRenderer(id='1342', ...)"
            ]
          },
          "metadata": {
            "tags": []
          },
          "execution_count": 15
        }
      ]
    },
    {
      "cell_type": "code",
      "metadata": {
        "id": "-cVz7rjpaRq6"
      },
      "source": [
        "# untuk tooltips\n",
        "adjTool = [('Name','@Name'), ('Adj Close', '@AdjClose')]\n",
        "volumeTool = [('Name','@Name'), ('Volume', '@Volume')]\n",
        "daypercTool = [('Name','@Name'), ('Day_Perc_Change', '@Day_Perc_Change')]\n",
        "\n",
        "# untuk hover\n",
        "adjHG = FAdj.circle(x='Date', y='AdjClose', source=datasetFF, size=7, alpha=0, hover_fill_color='red', hover_alpha=0.5)\n",
        "volumeHG = FVolume.circle(x='Date', y='Volume', source=datasetFF, size=7, alpha=0, hover_fill_color='red', hover_alpha=0.5)\n",
        "daypercHG = FDayPerc.circle(x='Date', y='Day_Perc_Change', source=datasetFF, size=7, alpha=0, hover_fill_color='red', hover_alpha=0.5)\n",
        "\n",
        "# untuk hover glyph\n",
        "FAdj.add_tools(HoverTool(tooltips=adjTool, renderers=[adjHG]))\n",
        "FVolume.add_tools(HoverTool(tooltips=volumeTool, renderers=[volumeHG]))\n",
        "FDayPerc.add_tools(HoverTool(tooltips=daypercTool, renderers=[daypercHG]))"
      ],
      "execution_count": null,
      "outputs": []
    },
    {
      "cell_type": "code",
      "metadata": {
        "colab": {
          "base_uri": "https://localhost:8080/",
          "height": 617
        },
        "id": "eQkkxq2MHfIb",
        "outputId": "455c9c4f-31d8-4c57-c4ae-2d7c4dd05817"
      },
      "source": [
        "html = \"\"\"<h3>Visualisasi Data</h3>\n",
        "<br>\n",
        "\"\"\"\n",
        "judulUp = Div(text=html)\n",
        "\n",
        "# agar dapat menyembunyikan data untuk indeks pasar saham tertentu\n",
        "# dengan mengklik legend dari indeks tersebut\n",
        "FAdj.legend.click_policy = 'hide'\n",
        "FVolume.legend.click_policy = 'hide'\n",
        "FDayPerc.legend.click_policy = 'hide'\n",
        "\n",
        "# membuat panel yang untuk adj close\n",
        "PAdjClose = Panel(child=FAdj, title='Adj Close')\n",
        "# membuat panel yang untuk volume\n",
        "PVolume = Panel(child=FVolume, title='Volume')\n",
        "# membuat panel yang untuk adj day_perc_change\n",
        "PDayPerc = Panel(child=FDayPerc, title='Day_Perc_Change')\n",
        "\n",
        "# membuat panel-panel tersebut menjadi tab, nanti bisa diclik tiap tab\n",
        "tabs = Tabs(tabs=[PAdjClose, PVolume, PDayPerc])\n",
        "\n",
        "# menampilkan tab\n",
        "show(column(judulUp,tabs))"
      ],
      "execution_count": null,
      "outputs": [
        {
          "output_type": "display_data",
          "data": {
            "application/javascript": [
              "\n",
              "(function(root) {\n",
              "  function now() {\n",
              "    return new Date();\n",
              "  }\n",
              "\n",
              "  var force = true;\n",
              "\n",
              "  if (typeof root._bokeh_onload_callbacks === \"undefined\" || force === true) {\n",
              "    root._bokeh_onload_callbacks = [];\n",
              "    root._bokeh_is_loading = undefined;\n",
              "  }\n",
              "\n",
              "  var JS_MIME_TYPE = 'application/javascript';\n",
              "  var HTML_MIME_TYPE = 'text/html';\n",
              "  var EXEC_MIME_TYPE = 'application/vnd.bokehjs_exec.v0+json';\n",
              "  var CLASS_NAME = 'output_bokeh rendered_html';\n",
              "\n",
              "  /**\n",
              "   * Render data to the DOM node\n",
              "   */\n",
              "  function render(props, node) {\n",
              "    var script = document.createElement(\"script\");\n",
              "    node.appendChild(script);\n",
              "  }\n",
              "\n",
              "  /**\n",
              "   * Handle when an output is cleared or removed\n",
              "   */\n",
              "  function handleClearOutput(event, handle) {\n",
              "    var cell = handle.cell;\n",
              "\n",
              "    var id = cell.output_area._bokeh_element_id;\n",
              "    var server_id = cell.output_area._bokeh_server_id;\n",
              "    // Clean up Bokeh references\n",
              "    if (id != null && id in Bokeh.index) {\n",
              "      Bokeh.index[id].model.document.clear();\n",
              "      delete Bokeh.index[id];\n",
              "    }\n",
              "\n",
              "    if (server_id !== undefined) {\n",
              "      // Clean up Bokeh references\n",
              "      var cmd = \"from bokeh.io.state import curstate; print(curstate().uuid_to_server['\" + server_id + \"'].get_sessions()[0].document.roots[0]._id)\";\n",
              "      cell.notebook.kernel.execute(cmd, {\n",
              "        iopub: {\n",
              "          output: function(msg) {\n",
              "            var id = msg.content.text.trim();\n",
              "            if (id in Bokeh.index) {\n",
              "              Bokeh.index[id].model.document.clear();\n",
              "              delete Bokeh.index[id];\n",
              "            }\n",
              "          }\n",
              "        }\n",
              "      });\n",
              "      // Destroy server and session\n",
              "      var cmd = \"import bokeh.io.notebook as ion; ion.destroy_server('\" + server_id + \"')\";\n",
              "      cell.notebook.kernel.execute(cmd);\n",
              "    }\n",
              "  }\n",
              "\n",
              "  /**\n",
              "   * Handle when a new output is added\n",
              "   */\n",
              "  function handleAddOutput(event, handle) {\n",
              "    var output_area = handle.output_area;\n",
              "    var output = handle.output;\n",
              "\n",
              "    // limit handleAddOutput to display_data with EXEC_MIME_TYPE content only\n",
              "    if ((output.output_type != \"display_data\") || (!Object.prototype.hasOwnProperty.call(output.data, EXEC_MIME_TYPE))) {\n",
              "      return\n",
              "    }\n",
              "\n",
              "    var toinsert = output_area.element.find(\".\" + CLASS_NAME.split(' ')[0]);\n",
              "\n",
              "    if (output.metadata[EXEC_MIME_TYPE][\"id\"] !== undefined) {\n",
              "      toinsert[toinsert.length - 1].firstChild.textContent = output.data[JS_MIME_TYPE];\n",
              "      // store reference to embed id on output_area\n",
              "      output_area._bokeh_element_id = output.metadata[EXEC_MIME_TYPE][\"id\"];\n",
              "    }\n",
              "    if (output.metadata[EXEC_MIME_TYPE][\"server_id\"] !== undefined) {\n",
              "      var bk_div = document.createElement(\"div\");\n",
              "      bk_div.innerHTML = output.data[HTML_MIME_TYPE];\n",
              "      var script_attrs = bk_div.children[0].attributes;\n",
              "      for (var i = 0; i < script_attrs.length; i++) {\n",
              "        toinsert[toinsert.length - 1].firstChild.setAttribute(script_attrs[i].name, script_attrs[i].value);\n",
              "        toinsert[toinsert.length - 1].firstChild.textContent = bk_div.children[0].textContent\n",
              "      }\n",
              "      // store reference to server id on output_area\n",
              "      output_area._bokeh_server_id = output.metadata[EXEC_MIME_TYPE][\"server_id\"];\n",
              "    }\n",
              "  }\n",
              "\n",
              "  function register_renderer(events, OutputArea) {\n",
              "\n",
              "    function append_mime(data, metadata, element) {\n",
              "      // create a DOM node to render to\n",
              "      var toinsert = this.create_output_subarea(\n",
              "        metadata,\n",
              "        CLASS_NAME,\n",
              "        EXEC_MIME_TYPE\n",
              "      );\n",
              "      this.keyboard_manager.register_events(toinsert);\n",
              "      // Render to node\n",
              "      var props = {data: data, metadata: metadata[EXEC_MIME_TYPE]};\n",
              "      render(props, toinsert[toinsert.length - 1]);\n",
              "      element.append(toinsert);\n",
              "      return toinsert\n",
              "    }\n",
              "\n",
              "    /* Handle when an output is cleared or removed */\n",
              "    events.on('clear_output.CodeCell', handleClearOutput);\n",
              "    events.on('delete.Cell', handleClearOutput);\n",
              "\n",
              "    /* Handle when a new output is added */\n",
              "    events.on('output_added.OutputArea', handleAddOutput);\n",
              "\n",
              "    /**\n",
              "     * Register the mime type and append_mime function with output_area\n",
              "     */\n",
              "    OutputArea.prototype.register_mime_type(EXEC_MIME_TYPE, append_mime, {\n",
              "      /* Is output safe? */\n",
              "      safe: true,\n",
              "      /* Index of renderer in `output_area.display_order` */\n",
              "      index: 0\n",
              "    });\n",
              "  }\n",
              "\n",
              "  // register the mime type if in Jupyter Notebook environment and previously unregistered\n",
              "  if (root.Jupyter !== undefined) {\n",
              "    var events = require('base/js/events');\n",
              "    var OutputArea = require('notebook/js/outputarea').OutputArea;\n",
              "\n",
              "    if (OutputArea.prototype.mime_types().indexOf(EXEC_MIME_TYPE) == -1) {\n",
              "      register_renderer(events, OutputArea);\n",
              "    }\n",
              "  }\n",
              "\n",
              "  \n",
              "  if (typeof (root._bokeh_timeout) === \"undefined\" || force === true) {\n",
              "    root._bokeh_timeout = Date.now() + 5000;\n",
              "    root._bokeh_failed_load = false;\n",
              "  }\n",
              "\n",
              "  var NB_LOAD_WARNING = {'data': {'text/html':\n",
              "     \"<div style='background-color: #fdd'>\\n\"+\n",
              "     \"<p>\\n\"+\n",
              "     \"BokehJS does not appear to have successfully loaded. If loading BokehJS from CDN, this \\n\"+\n",
              "     \"may be due to a slow or bad network connection. Possible fixes:\\n\"+\n",
              "     \"</p>\\n\"+\n",
              "     \"<ul>\\n\"+\n",
              "     \"<li>re-rerun `output_notebook()` to attempt to load from CDN again, or</li>\\n\"+\n",
              "     \"<li>use INLINE resources instead, as so:</li>\\n\"+\n",
              "     \"</ul>\\n\"+\n",
              "     \"<code>\\n\"+\n",
              "     \"from bokeh.resources import INLINE\\n\"+\n",
              "     \"output_notebook(resources=INLINE)\\n\"+\n",
              "     \"</code>\\n\"+\n",
              "     \"</div>\"}};\n",
              "\n",
              "  function display_loaded() {\n",
              "    var el = document.getElementById(null);\n",
              "    if (el != null) {\n",
              "      el.textContent = \"BokehJS is loading...\";\n",
              "    }\n",
              "    if (root.Bokeh !== undefined) {\n",
              "      if (el != null) {\n",
              "        el.textContent = \"BokehJS \" + root.Bokeh.version + \" successfully loaded.\";\n",
              "      }\n",
              "    } else if (Date.now() < root._bokeh_timeout) {\n",
              "      setTimeout(display_loaded, 100)\n",
              "    }\n",
              "  }\n",
              "\n",
              "\n",
              "  function run_callbacks() {\n",
              "    try {\n",
              "      root._bokeh_onload_callbacks.forEach(function(callback) {\n",
              "        if (callback != null)\n",
              "          callback();\n",
              "      });\n",
              "    } finally {\n",
              "      delete root._bokeh_onload_callbacks\n",
              "    }\n",
              "    console.debug(\"Bokeh: all callbacks have finished\");\n",
              "  }\n",
              "\n",
              "  function load_libs(css_urls, js_urls, callback) {\n",
              "    if (css_urls == null) css_urls = [];\n",
              "    if (js_urls == null) js_urls = [];\n",
              "\n",
              "    root._bokeh_onload_callbacks.push(callback);\n",
              "    if (root._bokeh_is_loading > 0) {\n",
              "      console.debug(\"Bokeh: BokehJS is being loaded, scheduling callback at\", now());\n",
              "      return null;\n",
              "    }\n",
              "    if (js_urls == null || js_urls.length === 0) {\n",
              "      run_callbacks();\n",
              "      return null;\n",
              "    }\n",
              "    console.debug(\"Bokeh: BokehJS not loaded, scheduling load and callback at\", now());\n",
              "    root._bokeh_is_loading = css_urls.length + js_urls.length;\n",
              "\n",
              "    function on_load() {\n",
              "      root._bokeh_is_loading--;\n",
              "      if (root._bokeh_is_loading === 0) {\n",
              "        console.debug(\"Bokeh: all BokehJS libraries/stylesheets loaded\");\n",
              "        run_callbacks()\n",
              "      }\n",
              "    }\n",
              "\n",
              "    function on_error(url) {\n",
              "      console.error(\"failed to load \" + url);\n",
              "    }\n",
              "\n",
              "    for (let i = 0; i < css_urls.length; i++) {\n",
              "      const url = css_urls[i];\n",
              "      const element = document.createElement(\"link\");\n",
              "      element.onload = on_load;\n",
              "      element.onerror = on_error.bind(null, url);\n",
              "      element.rel = \"stylesheet\";\n",
              "      element.type = \"text/css\";\n",
              "      element.href = url;\n",
              "      console.debug(\"Bokeh: injecting link tag for BokehJS stylesheet: \", url);\n",
              "      document.body.appendChild(element);\n",
              "    }\n",
              "\n",
              "    const hashes = {\"https://cdn.bokeh.org/bokeh/release/bokeh-2.3.2.min.js\": \"XypntL49z55iwGVUW4qsEu83zKL3XEcz0MjuGOQ9SlaaQ68X/g+k1FcioZi7oQAc\", \"https://cdn.bokeh.org/bokeh/release/bokeh-tables-2.3.2.min.js\": \"bEsM86IHGDTLCS0Zod8a8WM6Y4+lafAL/eSiyQcuPzinmWNgNO2/olUF0Z2Dkn5i\", \"https://cdn.bokeh.org/bokeh/release/bokeh-widgets-2.3.2.min.js\": \"TX0gSQTdXTTeScqxj6PVQxTiRW8DOoGVwinyi1D3kxv7wuxQ02XkOxv0xwiypcAH\"};\n",
              "\n",
              "    for (let i = 0; i < js_urls.length; i++) {\n",
              "      const url = js_urls[i];\n",
              "      const element = document.createElement('script');\n",
              "      element.onload = on_load;\n",
              "      element.onerror = on_error.bind(null, url);\n",
              "      element.async = false;\n",
              "      element.src = url;\n",
              "      if (url in hashes) {\n",
              "        element.crossOrigin = \"anonymous\";\n",
              "        element.integrity = \"sha384-\" + hashes[url];\n",
              "      }\n",
              "      console.debug(\"Bokeh: injecting script tag for BokehJS library: \", url);\n",
              "      document.head.appendChild(element);\n",
              "    }\n",
              "  };\n",
              "\n",
              "  function inject_raw_css(css) {\n",
              "    const element = document.createElement(\"style\");\n",
              "    element.appendChild(document.createTextNode(css));\n",
              "    document.body.appendChild(element);\n",
              "  }\n",
              "\n",
              "  \n",
              "  var js_urls = [\"https://cdn.bokeh.org/bokeh/release/bokeh-2.3.2.min.js\", \"https://cdn.bokeh.org/bokeh/release/bokeh-widgets-2.3.2.min.js\", \"https://cdn.bokeh.org/bokeh/release/bokeh-tables-2.3.2.min.js\"];\n",
              "  var css_urls = [];\n",
              "  \n",
              "\n",
              "  var inline_js = [\n",
              "    function(Bokeh) {\n",
              "      Bokeh.set_log_level(\"info\");\n",
              "    },\n",
              "    function(Bokeh) {\n",
              "    \n",
              "    \n",
              "    }\n",
              "  ];\n",
              "\n",
              "  function run_inline_js() {\n",
              "    \n",
              "    if (root.Bokeh !== undefined || force === true) {\n",
              "      \n",
              "    for (var i = 0; i < inline_js.length; i++) {\n",
              "      inline_js[i].call(root, root.Bokeh);\n",
              "    }\n",
              "    } else if (Date.now() < root._bokeh_timeout) {\n",
              "      setTimeout(run_inline_js, 100);\n",
              "    } else if (!root._bokeh_failed_load) {\n",
              "      console.log(\"Bokeh: BokehJS failed to load within specified timeout.\");\n",
              "      root._bokeh_failed_load = true;\n",
              "    } else if (force !== true) {\n",
              "      var cell = $(document.getElementById(null)).parents('.cell').data().cell;\n",
              "      cell.output_area.append_execute_result(NB_LOAD_WARNING)\n",
              "    }\n",
              "\n",
              "  }\n",
              "\n",
              "  if (root._bokeh_is_loading === 0) {\n",
              "    console.debug(\"Bokeh: BokehJS loaded, going straight to plotting\");\n",
              "    run_inline_js();\n",
              "  } else {\n",
              "    load_libs(css_urls, js_urls, function() {\n",
              "      console.debug(\"Bokeh: BokehJS plotting callback run at\", now());\n",
              "      run_inline_js();\n",
              "    });\n",
              "  }\n",
              "}(window));"
            ],
            "application/vnd.bokehjs_load.v0+json": "\n(function(root) {\n  function now() {\n    return new Date();\n  }\n\n  var force = true;\n\n  if (typeof root._bokeh_onload_callbacks === \"undefined\" || force === true) {\n    root._bokeh_onload_callbacks = [];\n    root._bokeh_is_loading = undefined;\n  }\n\n  \n\n  \n  if (typeof (root._bokeh_timeout) === \"undefined\" || force === true) {\n    root._bokeh_timeout = Date.now() + 5000;\n    root._bokeh_failed_load = false;\n  }\n\n  var NB_LOAD_WARNING = {'data': {'text/html':\n     \"<div style='background-color: #fdd'>\\n\"+\n     \"<p>\\n\"+\n     \"BokehJS does not appear to have successfully loaded. If loading BokehJS from CDN, this \\n\"+\n     \"may be due to a slow or bad network connection. Possible fixes:\\n\"+\n     \"</p>\\n\"+\n     \"<ul>\\n\"+\n     \"<li>re-rerun `output_notebook()` to attempt to load from CDN again, or</li>\\n\"+\n     \"<li>use INLINE resources instead, as so:</li>\\n\"+\n     \"</ul>\\n\"+\n     \"<code>\\n\"+\n     \"from bokeh.resources import INLINE\\n\"+\n     \"output_notebook(resources=INLINE)\\n\"+\n     \"</code>\\n\"+\n     \"</div>\"}};\n\n  function display_loaded() {\n    var el = document.getElementById(null);\n    if (el != null) {\n      el.textContent = \"BokehJS is loading...\";\n    }\n    if (root.Bokeh !== undefined) {\n      if (el != null) {\n        el.textContent = \"BokehJS \" + root.Bokeh.version + \" successfully loaded.\";\n      }\n    } else if (Date.now() < root._bokeh_timeout) {\n      setTimeout(display_loaded, 100)\n    }\n  }\n\n\n  function run_callbacks() {\n    try {\n      root._bokeh_onload_callbacks.forEach(function(callback) {\n        if (callback != null)\n          callback();\n      });\n    } finally {\n      delete root._bokeh_onload_callbacks\n    }\n    console.debug(\"Bokeh: all callbacks have finished\");\n  }\n\n  function load_libs(css_urls, js_urls, callback) {\n    if (css_urls == null) css_urls = [];\n    if (js_urls == null) js_urls = [];\n\n    root._bokeh_onload_callbacks.push(callback);\n    if (root._bokeh_is_loading > 0) {\n      console.debug(\"Bokeh: BokehJS is being loaded, scheduling callback at\", now());\n      return null;\n    }\n    if (js_urls == null || js_urls.length === 0) {\n      run_callbacks();\n      return null;\n    }\n    console.debug(\"Bokeh: BokehJS not loaded, scheduling load and callback at\", now());\n    root._bokeh_is_loading = css_urls.length + js_urls.length;\n\n    function on_load() {\n      root._bokeh_is_loading--;\n      if (root._bokeh_is_loading === 0) {\n        console.debug(\"Bokeh: all BokehJS libraries/stylesheets loaded\");\n        run_callbacks()\n      }\n    }\n\n    function on_error(url) {\n      console.error(\"failed to load \" + url);\n    }\n\n    for (let i = 0; i < css_urls.length; i++) {\n      const url = css_urls[i];\n      const element = document.createElement(\"link\");\n      element.onload = on_load;\n      element.onerror = on_error.bind(null, url);\n      element.rel = \"stylesheet\";\n      element.type = \"text/css\";\n      element.href = url;\n      console.debug(\"Bokeh: injecting link tag for BokehJS stylesheet: \", url);\n      document.body.appendChild(element);\n    }\n\n    const hashes = {\"https://cdn.bokeh.org/bokeh/release/bokeh-2.3.2.min.js\": \"XypntL49z55iwGVUW4qsEu83zKL3XEcz0MjuGOQ9SlaaQ68X/g+k1FcioZi7oQAc\", \"https://cdn.bokeh.org/bokeh/release/bokeh-tables-2.3.2.min.js\": \"bEsM86IHGDTLCS0Zod8a8WM6Y4+lafAL/eSiyQcuPzinmWNgNO2/olUF0Z2Dkn5i\", \"https://cdn.bokeh.org/bokeh/release/bokeh-widgets-2.3.2.min.js\": \"TX0gSQTdXTTeScqxj6PVQxTiRW8DOoGVwinyi1D3kxv7wuxQ02XkOxv0xwiypcAH\"};\n\n    for (let i = 0; i < js_urls.length; i++) {\n      const url = js_urls[i];\n      const element = document.createElement('script');\n      element.onload = on_load;\n      element.onerror = on_error.bind(null, url);\n      element.async = false;\n      element.src = url;\n      if (url in hashes) {\n        element.crossOrigin = \"anonymous\";\n        element.integrity = \"sha384-\" + hashes[url];\n      }\n      console.debug(\"Bokeh: injecting script tag for BokehJS library: \", url);\n      document.head.appendChild(element);\n    }\n  };\n\n  function inject_raw_css(css) {\n    const element = document.createElement(\"style\");\n    element.appendChild(document.createTextNode(css));\n    document.body.appendChild(element);\n  }\n\n  \n  var js_urls = [\"https://cdn.bokeh.org/bokeh/release/bokeh-2.3.2.min.js\", \"https://cdn.bokeh.org/bokeh/release/bokeh-widgets-2.3.2.min.js\", \"https://cdn.bokeh.org/bokeh/release/bokeh-tables-2.3.2.min.js\"];\n  var css_urls = [];\n  \n\n  var inline_js = [\n    function(Bokeh) {\n      Bokeh.set_log_level(\"info\");\n    },\n    function(Bokeh) {\n    \n    \n    }\n  ];\n\n  function run_inline_js() {\n    \n    if (root.Bokeh !== undefined || force === true) {\n      \n    for (var i = 0; i < inline_js.length; i++) {\n      inline_js[i].call(root, root.Bokeh);\n    }\n    } else if (Date.now() < root._bokeh_timeout) {\n      setTimeout(run_inline_js, 100);\n    } else if (!root._bokeh_failed_load) {\n      console.log(\"Bokeh: BokehJS failed to load within specified timeout.\");\n      root._bokeh_failed_load = true;\n    } else if (force !== true) {\n      var cell = $(document.getElementById(null)).parents('.cell').data().cell;\n      cell.output_area.append_execute_result(NB_LOAD_WARNING)\n    }\n\n  }\n\n  if (root._bokeh_is_loading === 0) {\n    console.debug(\"Bokeh: BokehJS loaded, going straight to plotting\");\n    run_inline_js();\n  } else {\n    load_libs(css_urls, js_urls, function() {\n      console.debug(\"Bokeh: BokehJS plotting callback run at\", now());\n      run_inline_js();\n    });\n  }\n}(window));"
          },
          "metadata": {
            "tags": []
          }
        },
        {
          "output_type": "display_data",
          "data": {
            "text/html": [
              "\n",
              "\n",
              "\n",
              "\n",
              "\n",
              "\n",
              "  <div class=\"bk-root\" id=\"c51a0f91-899e-4f4b-a768-6119ce987e3f\" data-root-id=\"1397\"></div>\n"
            ]
          },
          "metadata": {
            "tags": []
          }
        },
        {
          "output_type": "display_data",
          "data": {
            "application/javascript": [
              "(function(root) {\n",
              "  function embed_document(root) {\n",
              "    \n",
              "  var docs_json = {\"0196caae-0a89-4ad3-81e8-232b58103985\":{\"defs\":[],\"roots\":{\"references\":[{\"attributes\":{\"children\":[{\"id\":\"1392\"},{\"id\":\"1396\"}]},\"id\":\"1397\",\"type\":\"Column\"},{\"attributes\":{\"fill_alpha\":{\"value\":0.1},\"fill_color\":{\"value\":\"#073278\"},\"line_alpha\":{\"value\":0.1},\"line_color\":{\"value\":\"#073278\"},\"x\":{\"field\":\"Date\"},\"y\":{\"field\":\"AdjClose\"}},\"id\":\"1165\",\"type\":\"Circle\"},{\"attributes\":{\"fill_alpha\":{\"value\":0.1},\"fill_color\":{\"value\":\"#eb6777\"},\"line_alpha\":{\"value\":0.1},\"line_color\":{\"value\":\"#eb6777\"},\"x\":{\"field\":\"Date\"},\"y\":{\"field\":\"Volume\"}},\"id\":\"1194\",\"type\":\"Circle\"},{\"attributes\":{},\"id\":\"1197\",\"type\":\"AllLabels\"},{\"attributes\":{\"axis_label\":\"Volume\",\"formatter\":{\"id\":\"1199\"},\"major_label_policy\":{\"id\":\"1197\"},\"ticker\":{\"id\":\"1049\"}},\"id\":\"1048\",\"type\":\"LinearAxis\"},{\"attributes\":{\"data_source\":{\"id\":\"1095\"},\"glyph\":{\"id\":\"1191\"},\"hover_glyph\":null,\"muted_glyph\":{\"id\":\"1194\"},\"nonselection_glyph\":{\"id\":\"1192\"},\"selection_glyph\":{\"id\":\"1193\"},\"view\":{\"id\":\"1097\"}},\"id\":\"1195\",\"type\":\"GlyphRenderer\"},{\"attributes\":{},\"id\":\"1199\",\"type\":\"BasicTickFormatter\"},{\"attributes\":{\"base\":24,\"mantissas\":[1,2,4,6,8,12],\"max_interval\":43200000.0,\"min_interval\":3600000.0,\"num_minor_ticks\":0},\"id\":\"1120\",\"type\":\"AdaptiveTicker\"},{\"attributes\":{\"click_policy\":\"hide\",\"items\":[{\"id\":\"1219\"},{\"id\":\"1248\"},{\"id\":\"1277\"}]},\"id\":\"1218\",\"type\":\"Legend\"},{\"attributes\":{\"months\":[0,6]},\"id\":\"1128\",\"type\":\"MonthsTicker\"},{\"attributes\":{\"data_source\":{\"id\":\"1095\"},\"glyph\":{\"id\":\"1162\"},\"hover_glyph\":null,\"muted_glyph\":{\"id\":\"1165\"},\"nonselection_glyph\":{\"id\":\"1163\"},\"selection_glyph\":{\"id\":\"1164\"},\"view\":{\"id\":\"1101\"}},\"id\":\"1166\",\"type\":\"GlyphRenderer\"},{\"attributes\":{\"base\":60,\"mantissas\":[1,2,5,10,15,20,30],\"max_interval\":1800000.0,\"min_interval\":1000.0,\"num_minor_ticks\":0},\"id\":\"1119\",\"type\":\"AdaptiveTicker\"},{\"attributes\":{},\"id\":\"1067\",\"type\":\"DataRange1d\"},{\"attributes\":{\"months\":[0,2,4,6,8,10]},\"id\":\"1126\",\"type\":\"MonthsTicker\"},{\"attributes\":{\"fill_alpha\":{\"value\":0.1},\"fill_color\":{\"value\":\"#eb6777\"},\"line_alpha\":{\"value\":0.1},\"line_color\":{\"value\":\"#eb6777\"},\"x\":{\"field\":\"Date\"},\"y\":{\"field\":\"AdjClose\"}},\"id\":\"1106\",\"type\":\"Circle\"},{\"attributes\":{\"fill_alpha\":{\"value\":0.7},\"fill_color\":{\"value\":\"red\"},\"line_alpha\":{\"value\":0.7},\"line_color\":{\"value\":\"red\"},\"x\":{\"field\":\"Date\"},\"y\":{\"field\":\"AdjClose\"}},\"id\":\"1164\",\"type\":\"Circle\"},{\"attributes\":{\"num_minor_ticks\":5,\"tickers\":[{\"id\":\"1206\"},{\"id\":\"1207\"},{\"id\":\"1208\"},{\"id\":\"1209\"},{\"id\":\"1210\"},{\"id\":\"1211\"},{\"id\":\"1212\"},{\"id\":\"1213\"},{\"id\":\"1214\"},{\"id\":\"1215\"},{\"id\":\"1216\"},{\"id\":\"1217\"}]},\"id\":\"1045\",\"type\":\"DatetimeTicker\"},{\"attributes\":{\"fill_alpha\":{\"value\":0.3},\"fill_color\":{\"value\":\"lightgray\"},\"line_alpha\":{\"value\":0.3},\"line_color\":{\"value\":\"lightgray\"},\"x\":{\"field\":\"Date\"},\"y\":{\"field\":\"AdjClose\"}},\"id\":\"1163\",\"type\":\"Circle\"},{\"attributes\":{\"months\":[0,1,2,3,4,5,6,7,8,9,10,11]},\"id\":\"1125\",\"type\":\"MonthsTicker\"},{\"attributes\":{},\"id\":\"1114\",\"type\":\"DatetimeTickFormatter\"},{\"attributes\":{\"label\":{\"value\":\"NASDAQ\"},\"renderers\":[{\"id\":\"1166\"}]},\"id\":\"1189\",\"type\":\"LegendItem\"},{\"attributes\":{},\"id\":\"1112\",\"type\":\"AllLabels\"},{\"attributes\":{\"months\":[0,4,8]},\"id\":\"1127\",\"type\":\"MonthsTicker\"},{\"attributes\":{\"mantissas\":[1,2,5],\"max_interval\":500.0,\"num_minor_ticks\":0},\"id\":\"1118\",\"type\":\"AdaptiveTicker\"},{\"attributes\":{\"base\":60,\"mantissas\":[1,2,5,10,15,20,30],\"max_interval\":1800000.0,\"min_interval\":1000.0,\"num_minor_ticks\":0},\"id\":\"1207\",\"type\":\"AdaptiveTicker\"},{\"attributes\":{\"axis\":{\"id\":\"1048\"},\"dimension\":1,\"ticker\":null},\"id\":\"1051\",\"type\":\"Grid\"},{\"attributes\":{\"axis\":{\"id\":\"1044\"},\"ticker\":null},\"id\":\"1047\",\"type\":\"Grid\"},{\"attributes\":{\"days\":[1,4,7,10,13,16,19,22,25,28]},\"id\":\"1210\",\"type\":\"DaysTicker\"},{\"attributes\":{},\"id\":\"1054\",\"type\":\"WheelZoomTool\"},{\"attributes\":{},\"id\":\"1200\",\"type\":\"AllLabels\"},{\"attributes\":{\"days\":[1,2,3,4,5,6,7,8,9,10,11,12,13,14,15,16,17,18,19,20,21,22,23,24,25,26,27,28,29,30,31]},\"id\":\"1209\",\"type\":\"DaysTicker\"},{\"attributes\":{\"data_source\":{\"id\":\"1095\"},\"glyph\":{\"id\":\"1133\"},\"hover_glyph\":null,\"muted_glyph\":{\"id\":\"1136\"},\"nonselection_glyph\":{\"id\":\"1134\"},\"selection_glyph\":{\"id\":\"1135\"},\"view\":{\"id\":\"1099\"}},\"id\":\"1137\",\"type\":\"GlyphRenderer\"},{\"attributes\":{\"below\":[{\"id\":\"1044\"}],\"center\":[{\"id\":\"1047\"},{\"id\":\"1051\"},{\"id\":\"1218\"}],\"height\":500,\"left\":[{\"id\":\"1048\"}],\"renderers\":[{\"id\":\"1195\"},{\"id\":\"1225\"},{\"id\":\"1254\"},{\"id\":\"1378\"}],\"title\":{\"id\":\"1034\"},\"toolbar\":{\"id\":\"1058\"},\"toolbar_location\":\"below\",\"x_range\":{\"id\":\"1036\"},\"x_scale\":{\"id\":\"1040\"},\"y_range\":{\"id\":\"1038\"},\"y_scale\":{\"id\":\"1042\"}},\"id\":\"1033\",\"subtype\":\"Figure\",\"type\":\"Plot\"},{\"attributes\":{},\"id\":\"1049\",\"type\":\"BasicTicker\"},{\"attributes\":{},\"id\":\"1202\",\"type\":\"DatetimeTickFormatter\"},{\"attributes\":{},\"id\":\"1116\",\"type\":\"Selection\"},{\"attributes\":{\"text\":\"Volume\"},\"id\":\"1034\",\"type\":\"Title\"},{\"attributes\":{\"axis_label\":\"Date\",\"formatter\":{\"id\":\"1202\"},\"major_label_policy\":{\"id\":\"1200\"},\"ticker\":{\"id\":\"1045\"}},\"id\":\"1044\",\"type\":\"DatetimeAxis\"},{\"attributes\":{\"fill_alpha\":{\"value\":0.7},\"fill_color\":{\"value\":\"#eb6777\"},\"line_alpha\":{\"value\":0.7},\"line_color\":{\"value\":\"#eb6777\"},\"x\":{\"field\":\"Date\"},\"y\":{\"field\":\"AdjClose\"}},\"id\":\"1103\",\"type\":\"Circle\"},{\"attributes\":{\"fill_alpha\":{\"value\":0.7},\"fill_color\":{\"value\":\"red\"},\"line_alpha\":{\"value\":0.7},\"line_color\":{\"value\":\"red\"},\"x\":{\"field\":\"Date\"},\"y\":{\"field\":\"AdjClose\"}},\"id\":\"1135\",\"type\":\"Circle\"},{\"attributes\":{\"fill_alpha\":{\"value\":0.7},\"fill_color\":{\"value\":\"red\"},\"line_alpha\":{\"value\":0.7},\"line_color\":{\"value\":\"red\"},\"x\":{\"field\":\"Date\"},\"y\":{\"field\":\"AdjClose\"}},\"id\":\"1105\",\"type\":\"Circle\"},{\"attributes\":{\"days\":[1,8,15,22]},\"id\":\"1211\",\"type\":\"DaysTicker\"},{\"attributes\":{\"below\":[{\"id\":\"1013\"}],\"center\":[{\"id\":\"1016\"},{\"id\":\"1020\"},{\"id\":\"1130\"}],\"height\":500,\"left\":[{\"id\":\"1017\"}],\"renderers\":[{\"id\":\"1107\"},{\"id\":\"1137\"},{\"id\":\"1166\"},{\"id\":\"1372\"}],\"title\":{\"id\":\"1003\"},\"toolbar\":{\"id\":\"1027\"},\"toolbar_location\":\"below\",\"x_range\":{\"id\":\"1005\"},\"x_scale\":{\"id\":\"1009\"},\"y_range\":{\"id\":\"1007\"},\"y_scale\":{\"id\":\"1011\"}},\"id\":\"1002\",\"subtype\":\"Figure\",\"type\":\"Plot\"},{\"attributes\":{\"below\":[{\"id\":\"1075\"}],\"center\":[{\"id\":\"1078\"},{\"id\":\"1082\"},{\"id\":\"1306\"}],\"height\":500,\"left\":[{\"id\":\"1079\"}],\"renderers\":[{\"id\":\"1283\"},{\"id\":\"1313\"},{\"id\":\"1342\"},{\"id\":\"1384\"}],\"title\":{\"id\":\"1065\"},\"toolbar\":{\"id\":\"1089\"},\"toolbar_location\":\"below\",\"x_range\":{\"id\":\"1067\"},\"x_scale\":{\"id\":\"1071\"},\"y_range\":{\"id\":\"1069\"},\"y_scale\":{\"id\":\"1073\"}},\"id\":\"1064\",\"subtype\":\"Figure\",\"type\":\"Plot\"},{\"attributes\":{\"data_source\":{\"id\":\"1095\"},\"glyph\":{\"id\":\"1103\"},\"hover_glyph\":null,\"muted_glyph\":{\"id\":\"1106\"},\"nonselection_glyph\":{\"id\":\"1104\"},\"selection_glyph\":{\"id\":\"1105\"},\"view\":{\"id\":\"1097\"}},\"id\":\"1107\",\"type\":\"GlyphRenderer\"},{\"attributes\":{\"callback\":null},\"id\":\"1055\",\"type\":\"TapTool\"},{\"attributes\":{\"days\":[1,15]},\"id\":\"1212\",\"type\":\"DaysTicker\"},{\"attributes\":{\"text\":\"Adj Close\"},\"id\":\"1003\",\"type\":\"Title\"},{\"attributes\":{\"days\":[1,2,3,4,5,6,7,8,9,10,11,12,13,14,15,16,17,18,19,20,21,22,23,24,25,26,27,28,29,30,31]},\"id\":\"1121\",\"type\":\"DaysTicker\"},{\"attributes\":{\"months\":[0,1,2,3,4,5,6,7,8,9,10,11]},\"id\":\"1213\",\"type\":\"MonthsTicker\"},{\"attributes\":{},\"id\":\"1005\",\"type\":\"DataRange1d\"},{\"attributes\":{},\"id\":\"1040\",\"type\":\"LinearScale\"},{\"attributes\":{},\"id\":\"1007\",\"type\":\"DataRange1d\"},{\"attributes\":{\"click_policy\":\"hide\",\"items\":[{\"id\":\"1131\"},{\"id\":\"1160\"},{\"id\":\"1189\"}]},\"id\":\"1130\",\"type\":\"Legend\"},{\"attributes\":{\"months\":[0,2,4,6,8,10]},\"id\":\"1214\",\"type\":\"MonthsTicker\"},{\"attributes\":{\"label\":{\"value\":\"HANG SENG\"},\"renderers\":[{\"id\":\"1107\"}]},\"id\":\"1131\",\"type\":\"LegendItem\"},{\"attributes\":{\"fill_alpha\":{\"value\":0.1},\"fill_color\":{\"value\":\"#1f77b4\"},\"line_alpha\":{\"value\":0.1},\"line_color\":{\"value\":\"#1f77b4\"},\"size\":{\"value\":7},\"x\":{\"field\":\"Date\"},\"y\":{\"field\":\"Volume\"}},\"id\":\"1376\",\"type\":\"Circle\"},{\"attributes\":{},\"id\":\"1009\",\"type\":\"LinearScale\"},{\"attributes\":{\"months\":[0,4,8]},\"id\":\"1215\",\"type\":\"MonthsTicker\"},{\"attributes\":{\"months\":[0,6]},\"id\":\"1216\",\"type\":\"MonthsTicker\"},{\"attributes\":{\"fill_alpha\":{\"value\":0.3},\"fill_color\":{\"value\":\"lightgray\"},\"line_alpha\":{\"value\":0.3},\"line_color\":{\"value\":\"lightgray\"},\"x\":{\"field\":\"Date\"},\"y\":{\"field\":\"AdjClose\"}},\"id\":\"1104\",\"type\":\"Circle\"},{\"attributes\":{},\"id\":\"1217\",\"type\":\"YearsTicker\"},{\"attributes\":{\"data\":{\"AdjClose\":{\"__ndarray__\":\"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\",\"dtype\":\"float64\",\"order\":\"little\",\"shape\":[1474]},\"Date\":{\"__ndarray__\":\"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\",\"dtype\":\"float64\",\"order\":\"little\",\"shape\":[1474]},\"Day_Perc_Change\":{\"__ndarray__\":\"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\",\"dtype\":\"float64\",\"order\":\"little\",\"shape\":[1474]},\"Name\":[\"HANG SENG\",\"HANG SENG\",\"HANG SENG\",\"HANG SENG\",\"HANG SENG\",\"HANG SENG\",\"HANG SENG\",\"HANG SENG\",\"HANG SENG\",\"HANG SENG\",\"HANG SENG\",\"HANG SENG\",\"HANG SENG\",\"HANG SENG\",\"HANG SENG\",\"HANG SENG\",\"HANG SENG\",\"HANG SENG\",\"HANG SENG\",\"HANG SENG\",\"HANG SENG\",\"HANG SENG\",\"HANG SENG\",\"HANG SENG\",\"HANG SENG\",\"HANG SENG\",\"HANG SENG\",\"HANG SENG\",\"HANG SENG\",\"HANG SENG\",\"HANG SENG\",\"HANG SENG\",\"HANG SENG\",\"HANG SENG\",\"HANG SENG\",\"HANG SENG\",\"HANG SENG\",\"HANG SENG\",\"HANG SENG\",\"HANG SENG\",\"HANG SENG\",\"HANG SENG\",\"HANG SENG\",\"HANG SENG\",\"HANG SENG\",\"HANG SENG\",\"HANG SENG\",\"HANG SENG\",\"HANG SENG\",\"HANG SENG\",\"HANG SENG\",\"HANG SENG\",\"HANG SENG\",\"HANG SENG\",\"HANG SENG\",\"HANG SENG\",\"HANG SENG\",\"HANG SENG\",\"HANG SENG\",\"HANG SENG\",\"HANG SENG\",\"HANG SENG\",\"HANG SENG\",\"HANG SENG\",\"HANG SENG\",\"HANG SENG\",\"HANG SENG\",\"HANG SENG\",\"HANG SENG\",\"HANG SENG\",\"HANG SENG\",\"HANG SENG\",\"HANG SENG\",\"HANG SENG\",\"HANG SENG\",\"HANG SENG\",\"HANG SENG\",\"HANG SENG\",\"HANG SENG\",\"HANG SENG\",\"HANG SENG\",\"HANG SENG\",\"HANG SENG\",\"HANG SENG\",\"HANG SENG\",\"HANG SENG\",\"HANG SENG\",\"HANG SENG\",\"HANG SENG\",\"HANG SENG\",\"HANG SENG\",\"HANG SENG\",\"HANG SENG\",\"HANG SENG\",\"HANG SENG\",\"HANG SENG\",\"HANG SENG\",\"HANG SENG\",\"HANG SENG\",\"HANG SENG\",\"HANG SENG\",\"HANG SENG\",\"HANG SENG\",\"HANG SENG\",\"HANG SENG\",\"HANG SENG\",\"HANG SENG\",\"HANG SENG\",\"HANG SENG\",\"HANG SENG\",\"HANG SENG\",\"HANG SENG\",\"HANG SENG\",\"HANG SENG\",\"HANG SENG\",\"HANG SENG\",\"HANG SENG\",\"HANG SENG\",\"HANG SENG\",\"HANG SENG\",\"HANG SENG\",\"HANG SENG\",\"HANG SENG\",\"HANG SENG\",\"HANG SENG\",\"HANG SENG\",\"HANG SENG\",\"HANG SENG\",\"HANG SENG\",\"HANG SENG\",\"HANG SENG\",\"HANG SENG\",\"HANG SENG\",\"HANG SENG\",\"HANG SENG\",\"HANG SENG\",\"HANG SENG\",\"HANG SENG\",\"HANG SENG\",\"HANG SENG\",\"HANG SENG\",\"HANG SENG\",\"HANG SENG\",\"HANG SENG\",\"HANG SENG\",\"HANG SENG\",\"HANG SENG\",\"HANG SENG\",\"HANG SENG\",\"HANG SENG\",\"HANG SENG\",\"HANG SENG\",\"HANG SENG\",\"HANG SENG\",\"HANG SENG\",\"HANG SENG\",\"HANG SENG\",\"HANG SENG\",\"HANG SENG\",\"HANG SENG\",\"HANG SENG\",\"HANG SENG\",\"HANG SENG\",\"HANG SENG\",\"HANG SENG\",\"HANG SENG\",\"HANG SENG\",\"HANG SENG\",\"HANG SENG\",\"HANG SENG\",\"HANG SENG\",\"HANG SENG\",\"HANG SENG\",\"HANG SENG\",\"HANG SENG\",\"HANG SENG\",\"HANG SENG\",\"HANG SENG\",\"HANG SENG\",\"HANG SENG\",\"HANG SENG\",\"HANG SENG\",\"HANG SENG\",\"HANG SENG\",\"HANG SENG\",\"HANG SENG\",\"HANG SENG\",\"HANG SENG\",\"HANG SENG\",\"HANG SENG\",\"HANG SENG\",\"HANG SENG\",\"HANG SENG\",\"HANG SENG\",\"HANG SENG\",\"HANG SENG\",\"HANG SENG\",\"HANG SENG\",\"HANG SENG\",\"HANG SENG\",\"HANG SENG\",\"HANG SENG\",\"HANG SENG\",\"HANG SENG\",\"HANG SENG\",\"HANG SENG\",\"HANG SENG\",\"HANG SENG\",\"HANG SENG\",\"HANG SENG\",\"HANG SENG\",\"HANG SENG\",\"HANG SENG\",\"HANG SENG\",\"HANG SENG\",\"HANG SENG\",\"HANG SENG\",\"HANG SENG\",\"HANG SENG\",\"HANG SENG\",\"HANG SENG\",\"HANG SENG\",\"HANG SENG\",\"HANG SENG\",\"HANG SENG\",\"HANG SENG\",\"HANG SENG\",\"HANG SENG\",\"HANG SENG\",\"HANG SENG\",\"HANG SENG\",\"HANG SENG\",\"HANG SENG\",\"HANG SENG\",\"HANG SENG\",\"HANG SENG\",\"HANG SENG\",\"HANG SENG\",\"HANG SENG\",\"HANG SENG\",\"HANG SENG\",\"HANG SENG\",\"HANG SENG\",\"HANG SENG\",\"HANG SENG\",\"HANG SENG\",\"HANG SENG\",\"HANG SENG\",\"HANG SENG\",\"HANG SENG\",\"HANG SENG\",\"HANG SENG\",\"HANG SENG\",\"HANG SENG\",\"HANG SENG\",\"HANG SENG\",\"HANG SENG\",\"HANG SENG\",\"HANG SENG\",\"HANG SENG\",\"HANG SENG\",\"HANG SENG\",\"HANG SENG\",\"HANG SENG\",\"HANG SENG\",\"HANG SENG\",\"HANG SENG\",\"HANG SENG\",\"HANG SENG\",\"HANG SENG\",\"HANG SENG\",\"HANG SENG\",\"HANG SENG\",\"HANG SENG\",\"HANG SENG\",\"HANG SENG\",\"HANG SENG\",\"HANG SENG\",\"HANG SENG\",\"HANG SENG\",\"HANG SENG\",\"HANG SENG\",\"HANG SENG\",\"HANG SENG\",\"HANG SENG\",\"HANG SENG\",\"HANG SENG\",\"HANG SENG\",\"HANG SENG\",\"HANG SENG\",\"HANG SENG\",\"HANG SENG\",\"HANG SENG\",\"HANG SENG\",\"HANG SENG\",\"HANG SENG\",\"HANG SENG\",\"HANG SENG\",\"HANG SENG\",\"HANG SENG\",\"HANG SENG\",\"HANG SENG\",\"HANG SENG\",\"HANG SENG\",\"HANG SENG\",\"HANG SENG\",\"HANG SENG\",\"HANG SENG\",\"HANG SENG\",\"HANG SENG\",\"HANG SENG\",\"HANG SENG\",\"HANG SENG\",\"HANG SENG\",\"HANG SENG\",\"HANG SENG\",\"HANG SENG\",\"HANG SENG\",\"HANG SENG\",\"HANG SENG\",\"HANG SENG\",\"HANG SENG\",\"HANG SENG\",\"HANG SENG\",\"HANG SENG\",\"HANG SENG\",\"HANG SENG\",\"HANG SENG\",\"HANG SENG\",\"HANG SENG\",\"HANG SENG\",\"HANG SENG\",\"HANG SENG\",\"HANG SENG\",\"HANG SENG\",\"HANG SENG\",\"HANG SENG\",\"HANG SENG\",\"HANG SENG\",\"HANG SENG\",\"HANG SENG\",\"HANG SENG\",\"HANG SENG\",\"HANG SENG\",\"HANG SENG\",\"HANG SENG\",\"HANG SENG\",\"HANG SENG\",\"HANG SENG\",\"HANG SENG\",\"HANG SENG\",\"HANG SENG\",\"HANG SENG\",\"HANG SENG\",\"HANG SENG\",\"HANG SENG\",\"HANG SENG\",\"HANG SENG\",\"HANG SENG\",\"HANG SENG\",\"HANG SENG\",\"HANG SENG\",\"HANG SENG\",\"HANG SENG\",\"HANG SENG\",\"HANG SENG\",\"HANG SENG\",\"HANG SENG\",\"HANG SENG\",\"HANG SENG\",\"HANG SENG\",\"HANG SENG\",\"HANG SENG\",\"HANG SENG\",\"HANG SENG\",\"HANG SENG\",\"HANG SENG\",\"HANG SENG\",\"HANG SENG\",\"HANG SENG\",\"HANG SENG\",\"HANG SENG\",\"HANG SENG\",\"HANG SENG\",\"HANG SENG\",\"HANG SENG\",\"HANG SENG\",\"HANG SENG\",\"HANG SENG\",\"HANG SENG\",\"HANG SENG\",\"HANG SENG\",\"HANG SENG\",\"HANG SENG\",\"HANG SENG\",\"HANG SENG\",\"HANG SENG\",\"HANG SENG\",\"HANG SENG\",\"HANG SENG\",\"HANG SENG\",\"HANG SENG\",\"HANG SENG\",\"HANG SENG\",\"HANG SENG\",\"HANG SENG\",\"HANG SENG\",\"HANG SENG\",\"HANG SENG\",\"HANG SENG\",\"HANG SENG\",\"HANG SENG\",\"HANG SENG\",\"HANG SENG\",\"HANG SENG\",\"HANG SENG\",\"HANG SENG\",\"HANG SENG\",\"HANG SENG\",\"HANG SENG\",\"HANG SENG\",\"HANG SENG\",\"HANG SENG\",\"HANG SENG\",\"HANG SENG\",\"HANG SENG\",\"HANG SENG\",\"HANG SENG\",\"HANG SENG\",\"HANG SENG\",\"HANG SENG\",\"HANG SENG\",\"HANG SENG\",\"HANG SENG\",\"HANG SENG\",\"HANG SENG\",\"HANG SENG\",\"HANG SENG\",\"HANG SENG\",\"HANG SENG\",\"HANG SENG\",\"HANG SENG\",\"HANG SENG\",\"HANG SENG\",\"HANG SENG\",\"HANG SENG\",\"HANG SENG\",\"HANG SENG\",\"HANG SENG\",\"HANG SENG\",\"HANG SENG\",\"HANG SENG\",\"HANG SENG\",\"HANG SENG\",\"HANG SENG\",\"HANG SENG\",\"HANG SENG\",\"HANG SENG\",\"HANG SENG\",\"HANG SENG\",\"HANG SENG\",\"HANG SENG\",\"HANG SENG\",\"HANG SENG\",\"HANG SENG\",\"HANG SENG\",\"HANG SENG\",\"HANG SENG\",\"HANG SENG\",\"HANG SENG\",\"HANG SENG\",\"HANG SENG\",\"HANG SENG\",\"HANG SENG\",\"HANG SENG\",\"HANG SENG\",\"HANG SENG\",\"HANG SENG\",\"HANG SENG\",\"HANG SENG\",\"HANG SENG\",\"HANG SENG\",\"HANG SENG\",\"HANG SENG\",\"HANG SENG\",\"HANG SENG\",\"HANG SENG\",\"HANG SENG\",\"HANG SENG\",\"HANG SENG\",\"HANG SENG\",\"NASDAQ\",\"NASDAQ\",\"NASDAQ\",\"NASDAQ\",\"NASDAQ\",\"NASDAQ\",\"NASDAQ\",\"NASDAQ\",\"NASDAQ\",\"NASDAQ\",\"NASDAQ\",\"NASDAQ\",\"NASDAQ\",\"NASDAQ\",\"NASDAQ\",\"NASDAQ\",\"NASDAQ\",\"NASDAQ\",\"NASDAQ\",\"NASDAQ\",\"NASDAQ\",\"NASDAQ\",\"NASDAQ\",\"NASDAQ\",\"NASDAQ\",\"NASDAQ\",\"NASDAQ\",\"NASDAQ\",\"NASDAQ\",\"NASDAQ\",\"NASDAQ\",\"NASDAQ\",\"NASDAQ\",\"NASDAQ\",\"NASDAQ\",\"NASDAQ\",\"NASDAQ\",\"NASDAQ\",\"NASDAQ\",\"NASDAQ\",\"NASDAQ\",\"NASDAQ\",\"NASDAQ\",\"NASDAQ\",\"NASDAQ\",\"NASDAQ\",\"NASDAQ\",\"NASDAQ\",\"NASDAQ\",\"NASDAQ\",\"NASDAQ\",\"NASDAQ\",\"NASDAQ\",\"NASDAQ\",\"NASDAQ\",\"NASDAQ\",\"NASDAQ\",\"NASDAQ\",\"NASDAQ\",\"NASDAQ\",\"NASDAQ\",\"NASDAQ\",\"NASDAQ\",\"NASDAQ\",\"NASDAQ\",\"NASDAQ\",\"NASDAQ\",\"NASDAQ\",\"NASDAQ\",\"NASDAQ\",\"NASDAQ\",\"NASDAQ\",\"NASDAQ\",\"NASDAQ\",\"NASDAQ\",\"NASDAQ\",\"NASDAQ\",\"NASDAQ\",\"NASDAQ\",\"NASDAQ\",\"NASDAQ\",\"NASDAQ\",\"NASDAQ\",\"NASDAQ\",\"NASDAQ\",\"NASDAQ\",\"NASDAQ\",\"NASDAQ\",\"NASDAQ\",\"NASDAQ\",\"NASDAQ\",\"NASDAQ\",\"NASDAQ\",\"NASDAQ\",\"NASDAQ\",\"NASDAQ\",\"NASDAQ\",\"NASDAQ\",\"NASDAQ\",\"NASDAQ\",\"NASDAQ\",\"NASDAQ\",\"NASDAQ\",\"NASDAQ\",\"NASDAQ\",\"NASDAQ\",\"NASDAQ\",\"NASDAQ\",\"NASDAQ\",\"NASDAQ\",\"NASDAQ\",\"NASDAQ\",\"NASDAQ\",\"NASDAQ\",\"NASDAQ\",\"NASDAQ\",\"NASDAQ\",\"NASDAQ\",\"NASDAQ\",\"NASDAQ\",\"NASDAQ\",\"NASDAQ\",\"NASDAQ\",\"NASDAQ\",\"NASDAQ\",\"NASDAQ\",\"NASDAQ\",\"NASDAQ\",\"NASDAQ\",\"NASDAQ\",\"NASDAQ\",\"NASDAQ\",\"NASDAQ\",\"NASDAQ\",\"NASDAQ\",\"NASDAQ\",\"NASDAQ\",\"NASDAQ\",\"NASDAQ\",\"NASDAQ\",\"NASDAQ\",\"NASDAQ\",\"NASDAQ\",\"NASDAQ\",\"NASDAQ\",\"NASDAQ\",\"NASDAQ\",\"NASDAQ\",\"NASDAQ\",\"NASDAQ\",\"NASDAQ\",\"NASDAQ\",\"NASDAQ\",\"NASDAQ\",\"NASDAQ\",\"NASDAQ\",\"NASDAQ\",\"NASDAQ\",\"NASDAQ\",\"NASDAQ\",\"NASDAQ\",\"NASDAQ\",\"NASDAQ\",\"NASDAQ\",\"NASDAQ\",\"NASDAQ\",\"NASDAQ\",\"NASDAQ\",\"NASDAQ\",\"NASDAQ\",\"NASDAQ\",\"NASDAQ\",\"NASDAQ\",\"NASDAQ\",\"NASDAQ\",\"NASDAQ\",\"NASDAQ\",\"NASDAQ\",\"NASDAQ\",\"NASDAQ\",\"NASDAQ\",\"NASDAQ\",\"NASDAQ\",\"NASDAQ\",\"NASDAQ\",\"NASDAQ\",\"NASDAQ\",\"NASDAQ\",\"NASDAQ\",\"NASDAQ\",\"NASDAQ\",\"NASDAQ\",\"NASDAQ\",\"NASDAQ\",\"NASDAQ\",\"NASDAQ\",\"NASDAQ\",\"NASDAQ\",\"NASDAQ\",\"NASDAQ\",\"NASDAQ\",\"NASDAQ\",\"NASDAQ\",\"NASDAQ\",\"NASDAQ\",\"NASDAQ\",\"NASDAQ\",\"NASDAQ\",\"NASDAQ\",\"NASDAQ\",\"NASDAQ\",\"NASDAQ\",\"NASDAQ\",\"NASDAQ\",\"NASDAQ\",\"NASDAQ\",\"NASDAQ\",\"NASDAQ\",\"NASDAQ\",\"NASDAQ\",\"NASDAQ\",\"NASDAQ\",\"NASDAQ\",\"NASDAQ\",\"NASDAQ\",\"NASDAQ\",\"NASDAQ\",\"NASDAQ\",\"NASDAQ\",\"NASDAQ\",\"NASDAQ\",\"NASDAQ\",\"NASDAQ\",\"NASDAQ\",\"NASDAQ\",\"NASDAQ\",\"NASDAQ\",\"NASDAQ\",\"NASDAQ\",\"NASDAQ\",\"NASDAQ\",\"NASDAQ\",\"NASDAQ\",\"NASDAQ\",\"NASDAQ\",\"NASDAQ\",\"NASDAQ\",\"NASDAQ\",\"NASDAQ\",\"NASDAQ\",\"NASDAQ\",\"NASDAQ\",\"NASDAQ\",\"NASDAQ\",\"NASDAQ\",\"NASDAQ\",\"NASDAQ\",\"NASDAQ\",\"NASDAQ\",\"NASDAQ\",\"NASDAQ\",\"NASDAQ\",\"NASDAQ\",\"NASDAQ\",\"NASDAQ\",\"NASDAQ\",\"NASDAQ\",\"NASDAQ\",\"NASDAQ\",\"NASDAQ\",\"NASDAQ\",\"NASDAQ\",\"NASDAQ\",\"NASDAQ\",\"NASDAQ\",\"NASDAQ\",\"NASDAQ\",\"NASDAQ\",\"NASDAQ\",\"NASDAQ\",\"NASDAQ\",\"NASDAQ\",\"NASDAQ\",\"NASDAQ\",\"NASDAQ\",\"NASDAQ\",\"NASDAQ\",\"NASDAQ\",\"NASDAQ\",\"NASDAQ\",\"NASDAQ\",\"NASDAQ\",\"NASDAQ\",\"NASDAQ\",\"NASDAQ\",\"NASDAQ\",\"NASDAQ\",\"NASDAQ\",\"NASDAQ\",\"NASDAQ\",\"NASDAQ\",\"NASDAQ\",\"NASDAQ\",\"NASDAQ\",\"NASDAQ\",\"NASDAQ\",\"NASDAQ\",\"NASDAQ\",\"NASDAQ\",\"NASDAQ\",\"NASDAQ\",\"NASDAQ\",\"NASDAQ\",\"NASDAQ\",\"NASDAQ\",\"NASDAQ\",\"NASDAQ\",\"NASDAQ\",\"NASDAQ\",\"NASDAQ\",\"NASDAQ\",\"NASDAQ\",\"NASDAQ\",\"NASDAQ\",\"NASDAQ\",\"NASDAQ\",\"NASDAQ\",\"NASDAQ\",\"NASDAQ\",\"NASDAQ\",\"NASDAQ\",\"NASDAQ\",\"NASDAQ\",\"NASDAQ\",\"NASDAQ\",\"NASDAQ\",\"NASDAQ\",\"NASDAQ\",\"NASDAQ\",\"NASDAQ\",\"NASDAQ\",\"NASDAQ\",\"NASDAQ\",\"NASDAQ\",\"NASDAQ\",\"NASDAQ\",\"NASDAQ\",\"NASDAQ\",\"NASDAQ\",\"NASDAQ\",\"NASDAQ\",\"NASDAQ\",\"NASDAQ\",\"NASDAQ\",\"NASDAQ\",\"NASDAQ\",\"NASDAQ\",\"NASDAQ\",\"NASDAQ\",\"NASDAQ\",\"NASDAQ\",\"NASDAQ\",\"NASDAQ\",\"NASDAQ\",\"NASDAQ\",\"NASDAQ\",\"NASDAQ\",\"NASDAQ\",\"NASDAQ\",\"NASDAQ\",\"NASDAQ\",\"NASDAQ\",\"NASDAQ\",\"NASDAQ\",\"NASDAQ\",\"NASDAQ\",\"NASDAQ\",\"NASDAQ\",\"NASDAQ\",\"NASDAQ\",\"NASDAQ\",\"NASDAQ\",\"NASDAQ\",\"NASDAQ\",\"NASDAQ\",\"NASDAQ\",\"NASDAQ\",\"NASDAQ\",\"NASDAQ\",\"NASDAQ\",\"NASDAQ\",\"NASDAQ\",\"NASDAQ\",\"NASDAQ\",\"NASDAQ\",\"NASDAQ\",\"NASDAQ\",\"NASDAQ\",\"NASDAQ\",\"NASDAQ\",\"NASDAQ\",\"NASDAQ\",\"NASDAQ\",\"NASDAQ\",\"NASDAQ\",\"NASDAQ\",\"NASDAQ\",\"NASDAQ\",\"NASDAQ\",\"NASDAQ\",\"NASDAQ\",\"NASDAQ\",\"NASDAQ\",\"NASDAQ\",\"NASDAQ\",\"NASDAQ\",\"NASDAQ\",\"NASDAQ\",\"NASDAQ\",\"NASDAQ\",\"NASDAQ\",\"NASDAQ\",\"NASDAQ\",\"NASDAQ\",\"NASDAQ\",\"NASDAQ\",\"NASDAQ\",\"NASDAQ\",\"NASDAQ\",\"NASDAQ\",\"NASDAQ\",\"NASDAQ\",\"NASDAQ\",\"NASDAQ\",\"NASDAQ\",\"NASDAQ\",\"NASDAQ\",\"NASDAQ\",\"NASDAQ\",\"NASDAQ\",\"NASDAQ\",\"NASDAQ\",\"NASDAQ\",\"NASDAQ\",\"NASDAQ\",\"NASDAQ\",\"NASDAQ\",\"NASDAQ\",\"NASDAQ\",\"NASDAQ\",\"NASDAQ\",\"NASDAQ\",\"NASDAQ\",\"NASDAQ\",\"NASDAQ\",\"NASDAQ\",\"NASDAQ\",\"NASDAQ\",\"NASDAQ\",\"NASDAQ\",\"NASDAQ\",\"NASDAQ\",\"NASDAQ\",\"NASDAQ\",\"NASDAQ\",\"NASDAQ\",\"NASDAQ\",\"NASDAQ\",\"NASDAQ\",\"NASDAQ\",\"NASDAQ\",\"NASDAQ\",\"NASDAQ\",\"NASDAQ\",\"NASDAQ\",\"NASDAQ\",\"NASDAQ\",\"NASDAQ\",\"NASDAQ\",\"NASDAQ\",\"NASDAQ\",\"NASDAQ\",\"NASDAQ\",\"NASDAQ\",\"NASDAQ\",\"NASDAQ\",\"NASDAQ\",\"NASDAQ\",\"NASDAQ\",\"NASDAQ\",\"NASDAQ\",\"NASDAQ\",\"NASDAQ\",\"NASDAQ\",\"NASDAQ\",\"NASDAQ\",\"NASDAQ\",\"NASDAQ\",\"NASDAQ\",\"NASDAQ\",\"NASDAQ\",\"NIKKEI\",\"NIKKEI\",\"NIKKEI\",\"NIKKEI\",\"NIKKEI\",\"NIKKEI\",\"NIKKEI\",\"NIKKEI\",\"NIKKEI\",\"NIKKEI\",\"NIKKEI\",\"NIKKEI\",\"NIKKEI\",\"NIKKEI\",\"NIKKEI\",\"NIKKEI\",\"NIKKEI\",\"NIKKEI\",\"NIKKEI\",\"NIKKEI\",\"NIKKEI\",\"NIKKEI\",\"NIKKEI\",\"NIKKEI\",\"NIKKEI\",\"NIKKEI\",\"NIKKEI\",\"NIKKEI\",\"NIKKEI\",\"NIKKEI\",\"NIKKEI\",\"NIKKEI\",\"NIKKEI\",\"NIKKEI\",\"NIKKEI\",\"NIKKEI\",\"NIKKEI\",\"NIKKEI\",\"NIKKEI\",\"NIKKEI\",\"NIKKEI\",\"NIKKEI\",\"NIKKEI\",\"NIKKEI\",\"NIKKEI\",\"NIKKEI\",\"NIKKEI\",\"NIKKEI\",\"NIKKEI\",\"NIKKEI\",\"NIKKEI\",\"NIKKEI\",\"NIKKEI\",\"NIKKEI\",\"NIKKEI\",\"NIKKEI\",\"NIKKEI\",\"NIKKEI\",\"NIKKEI\",\"NIKKEI\",\"NIKKEI\",\"NIKKEI\",\"NIKKEI\",\"NIKKEI\",\"NIKKEI\",\"NIKKEI\",\"NIKKEI\",\"NIKKEI\",\"NIKKEI\",\"NIKKEI\",\"NIKKEI\",\"NIKKEI\",\"NIKKEI\",\"NIKKEI\",\"NIKKEI\",\"NIKKEI\",\"NIKKEI\",\"NIKKEI\",\"NIKKEI\",\"NIKKEI\",\"NIKKEI\",\"NIKKEI\",\"NIKKEI\",\"NIKKEI\",\"NIKKEI\",\"NIKKEI\",\"NIKKEI\",\"NIKKEI\",\"NIKKEI\",\"NIKKEI\",\"NIKKEI\",\"NIKKEI\",\"NIKKEI\",\"NIKKEI\",\"NIKKEI\",\"NIKKEI\",\"NIKKEI\",\"NIKKEI\",\"NIKKEI\",\"NIKKEI\",\"NIKKEI\",\"NIKKEI\",\"NIKKEI\",\"NIKKEI\",\"NIKKEI\",\"NIKKEI\",\"NIKKEI\",\"NIKKEI\",\"NIKKEI\",\"NIKKEI\",\"NIKKEI\",\"NIKKEI\",\"NIKKEI\",\"NIKKEI\",\"NIKKEI\",\"NIKKEI\",\"NIKKEI\",\"NIKKEI\",\"NIKKEI\",\"NIKKEI\",\"NIKKEI\",\"NIKKEI\",\"NIKKEI\",\"NIKKEI\",\"NIKKEI\",\"NIKKEI\",\"NIKKEI\",\"NIKKEI\",\"NIKKEI\",\"NIKKEI\",\"NIKKEI\",\"NIKKEI\",\"NIKKEI\",\"NIKKEI\",\"NIKKEI\",\"NIKKEI\",\"NIKKEI\",\"NIKKEI\",\"NIKKEI\",\"NIKKEI\",\"NIKKEI\",\"NIKKEI\",\"NIKKEI\",\"NIKKEI\",\"NIKKEI\",\"NIKKEI\",\"NIKKEI\",\"NIKKEI\",\"NIKKEI\",\"NIKKEI\",\"NIKKEI\",\"NIKKEI\",\"NIKKEI\",\"NIKKEI\",\"NIKKEI\",\"NIKKEI\",\"NIKKEI\",\"NIKKEI\",\"NIKKEI\",\"NIKKEI\",\"NIKKEI\",\"NIKKEI\",\"NIKKEI\",\"NIKKEI\",\"NIKKEI\",\"NIKKEI\",\"NIKKEI\",\"NIKKEI\",\"NIKKEI\",\"NIKKEI\",\"NIKKEI\",\"NIKKEI\",\"NIKKEI\",\"NIKKEI\",\"NIKKEI\",\"NIKKEI\",\"NIKKEI\",\"NIKKEI\",\"NIKKEI\",\"NIKKEI\",\"NIKKEI\",\"NIKKEI\",\"NIKKEI\",\"NIKKEI\",\"NIKKEI\",\"NIKKEI\",\"NIKKEI\",\"NIKKEI\",\"NIKKEI\",\"NIKKEI\",\"NIKKEI\",\"NIKKEI\",\"NIKKEI\",\"NIKKEI\",\"NIKKEI\",\"NIKKEI\",\"NIKKEI\",\"NIKKEI\",\"NIKKEI\",\"NIKKEI\",\"NIKKEI\",\"NIKKEI\",\"NIKKEI\",\"NIKKEI\",\"NIKKEI\",\"NIKKEI\",\"NIKKEI\",\"NIKKEI\",\"NIKKEI\",\"NIKKEI\",\"NIKKEI\",\"NIKKEI\",\"NIKKEI\",\"NIKKEI\",\"NIKKEI\",\"NIKKEI\",\"NIKKEI\",\"NIKKEI\",\"NIKKEI\",\"NIKKEI\",\"NIKKEI\",\"NIKKEI\",\"NIKKEI\",\"NIKKEI\",\"NIKKEI\",\"NIKKEI\",\"NIKKEI\",\"NIKKEI\",\"NIKKEI\",\"NIKKEI\",\"NIKKEI\",\"NIKKEI\",\"NIKKEI\",\"NIKKEI\",\"NIKKEI\",\"NIKKEI\",\"NIKKEI\",\"NIKKEI\",\"NIKKEI\",\"NIKKEI\",\"NIKKEI\",\"NIKKEI\",\"NIKKEI\",\"NIKKEI\",\"NIKKEI\",\"NIKKEI\",\"NIKKEI\",\"NIKKEI\",\"NIKKEI\",\"NIKKEI\",\"NIKKEI\",\"NIKKEI\",\"NIKKEI\",\"NIKKEI\",\"NIKKEI\",\"NIKKEI\",\"NIKKEI\",\"NIKKEI\",\"NIKKEI\",\"NIKKEI\",\"NIKKEI\",\"NIKKEI\",\"NIKKEI\",\"NIKKEI\",\"NIKKEI\",\"NIKKEI\",\"NIKKEI\",\"NIKKEI\",\"NIKKEI\",\"NIKKEI\",\"NIKKEI\",\"NIKKEI\",\"NIKKEI\",\"NIKKEI\",\"NIKKEI\",\"NIKKEI\",\"NIKKEI\",\"NIKKEI\",\"NIKKEI\",\"NIKKEI\",\"NIKKEI\",\"NIKKEI\",\"NIKKEI\",\"NIKKEI\",\"NIKKEI\",\"NIKKEI\",\"NIKKEI\",\"NIKKEI\",\"NIKKEI\",\"NIKKEI\",\"NIKKEI\",\"NIKKEI\",\"NIKKEI\",\"NIKKEI\",\"NIKKEI\",\"NIKKEI\",\"NIKKEI\",\"NIKKEI\",\"NIKKEI\",\"NIKKEI\",\"NIKKEI\",\"NIKKEI\",\"NIKKEI\",\"NIKKEI\",\"NIKKEI\",\"NIKKEI\",\"NIKKEI\",\"NIKKEI\",\"NIKKEI\",\"NIKKEI\",\"NIKKEI\",\"NIKKEI\",\"NIKKEI\",\"NIKKEI\",\"NIKKEI\",\"NIKKEI\",\"NIKKEI\",\"NIKKEI\",\"NIKKEI\",\"NIKKEI\",\"NIKKEI\",\"NIKKEI\",\"NIKKEI\",\"NIKKEI\",\"NIKKEI\",\"NIKKEI\",\"NIKKEI\",\"NIKKEI\",\"NIKKEI\",\"NIKKEI\",\"NIKKEI\",\"NIKKEI\",\"NIKKEI\",\"NIKKEI\",\"NIKKEI\",\"NIKKEI\",\"NIKKEI\",\"NIKKEI\",\"NIKKEI\",\"NIKKEI\",\"NIKKEI\",\"NIKKEI\",\"NIKKEI\",\"NIKKEI\",\"NIKKEI\",\"NIKKEI\",\"NIKKEI\",\"NIKKEI\",\"NIKKEI\",\"NIKKEI\",\"NIKKEI\",\"NIKKEI\",\"NIKKEI\",\"NIKKEI\",\"NIKKEI\",\"NIKKEI\",\"NIKKEI\",\"NIKKEI\",\"NIKKEI\",\"NIKKEI\",\"NIKKEI\",\"NIKKEI\",\"NIKKEI\",\"NIKKEI\",\"NIKKEI\",\"NIKKEI\",\"NIKKEI\",\"NIKKEI\",\"NIKKEI\",\"NIKKEI\",\"NIKKEI\",\"NIKKEI\",\"NIKKEI\",\"NIKKEI\",\"NIKKEI\",\"NIKKEI\",\"NIKKEI\",\"NIKKEI\",\"NIKKEI\",\"NIKKEI\",\"NIKKEI\",\"NIKKEI\",\"NIKKEI\",\"NIKKEI\",\"NIKKEI\",\"NIKKEI\",\"NIKKEI\",\"NIKKEI\",\"NIKKEI\",\"NIKKEI\",\"NIKKEI\",\"NIKKEI\",\"NIKKEI\",\"NIKKEI\",\"NIKKEI\",\"NIKKEI\",\"NIKKEI\",\"NIKKEI\",\"NIKKEI\",\"NIKKEI\",\"NIKKEI\",\"NIKKEI\",\"NIKKEI\",\"NIKKEI\",\"NIKKEI\",\"NIKKEI\",\"NIKKEI\",\"NIKKEI\",\"NIKKEI\",\"NIKKEI\",\"NIKKEI\",\"NIKKEI\",\"NIKKEI\",\"NIKKEI\",\"NIKKEI\",\"NIKKEI\",\"NIKKEI\",\"NIKKEI\",\"NIKKEI\",\"NIKKEI\",\"NIKKEI\",\"NIKKEI\",\"NIKKEI\",\"NIKKEI\",\"NIKKEI\",\"NIKKEI\",\"NIKKEI\",\"NIKKEI\",\"NIKKEI\",\"NIKKEI\",\"NIKKEI\",\"NIKKEI\",\"NIKKEI\",\"NIKKEI\",\"NIKKEI\",\"NIKKEI\",\"NIKKEI\",\"NIKKEI\",\"NIKKEI\",\"NIKKEI\",\"NIKKEI\",\"NIKKEI\",\"NIKKEI\",\"NIKKEI\",\"NIKKEI\",\"NIKKEI\",\"NIKKEI\",\"NIKKEI\",\"NIKKEI\",\"NIKKEI\",\"NIKKEI\",\"NIKKEI\",\"NIKKEI\",\"NIKKEI\",\"NIKKEI\",\"NIKKEI\",\"NIKKEI\",\"NIKKEI\",\"NIKKEI\",\"NIKKEI\",\"NIKKEI\",\"NIKKEI\",\"NIKKEI\",\"NIKKEI\",\"NIKKEI\",\"NIKKEI\",\"NIKKEI\",\"NIKKEI\",\"NIKKEI\",\"NIKKEI\",\"NIKKEI\",\"NIKKEI\",\"NIKKEI\",\"NIKKEI\",\"NIKKEI\",\"NIKKEI\",\"NIKKEI\",\"NIKKEI\",\"NIKKEI\",\"NIKKEI\",\"NIKKEI\",\"NIKKEI\"],\"Volume\":[2222812200,1772912000,1962753500,2288634200,1688395600,2000985900,2100387500,2363084500,2176972600,3518978800,1626675400,1562913100,1731287400,1654626400,1839798600,1171178800,1689989400,1431673200,1534457400,1330024100,1320040400,1205800000,1397423500,1010983600,877061500,1611982200,1394358800,1415273800,1469593600,2000815900,2549703200,1880483300,1330919400,2123180600,2726993500,1544284600,1190934600,1429660600,1747235100,1344364100,1036879300,1449449300,1430181500,1717860300,1935298900,1074120100,1313061500,1224894400,826507300,1666316400,1481291700,1708572100,1447090300,1578205700,2680892000,1939043900,1799353900,1426017400,1822902000,1714886500,1860541000,1692701900,1640014700,1578449700,1381999400,1323732100,2264965800,1705146300,1821838000,1821894600,2225282600,1669716900,808061300,1527669600,1384082500,1492521500,1930777700,1433724900,1781495400,1549943500,1653127000,1928707100,1814520300,1706490600,3517972400,2758187900,2378404200,2086693500,1927040400,2682948700,1951621500,1794494900,1691993300,2998999600,1525534800,0,1183090900,1390223200,1974569100,1887811300,1747657200,1580528500,1750672700,1740699100,2091121900,1406624800,1475536600,1582079600,2695223000,2475412300,1858466500,2019434600,1854467500,2321011600,2049354000,1814064400,1897154200,1560692000,2010638200,2546181500,2035147300,1569930600,2006226400,1748986700,1644483200,1411001700,1250717200,1359023200,1298906600,1217388500,2934065800,1997665400,2182802000,2907223700,2421480000,2875261200,2244890100,2372367500,1922181900,2260468500,2229189200,1705803400,2219416000,1677043500,1264256500,3043711500,2236869000,1884022200,1829465900,1716241600,1527666000,1894174900,1601926500,2272329600,1824700000,1866884200,1846303100,2031083500,1487266700,1550614700,2076060300,1820185000,2171897300,1338833200,1851984100,1431402200,1679897500,1486688000,2110432700,1291301500,928449700,846919500,1250874300,1218475000,1013012100,1067070900,1204492700,1317116400,1024681900,950441100,925037300,1261012300,1104886500,950029300,1075821900,974264600,1320699900,1563572300,1147561000,1287084400,1736444000,2317609200,2120745300,2751867000,1671335000,1658129900,1357616900,1200393600,1979089800,1915522900,2145864600,2022477500,2144882700,1822936100,1701479200,1780728400,1621440900,2475604900,2214167200,1462114400,1784869100,2017892000,1295066700,1149210200,2688524600,1996619100,1895344700,1700948300,1738020300,2072246200,1337046900,1176496300,2189101500,1850715100,1372644100,1330417000,1972985800,1285452900,2089366000,1762622300,1700238600,984279500,1343934800,1202153800,1142351000,1137243700,1779110400,1588334500,1434231600,2030977900,2096251800,1569211500,1689389100,1403839300,1541856100,1045151500,1496851400,1270778600,1496729000,1151226200,1476176200,1515348700,1554112000,1907594000,1421451500,1777502800,1748633300,1316670900,1353594600,1491797400,1921659900,1149626200,1855002900,1554697800,1180282700,1425323100,1542578800,1333243700,1712162300,1100431900,1497175900,2416392100,1133748200,998841900,2004856800,1348911800,1795451800,1502327900,1228026600,1644211100,1301819900,956293300,1409589200,1451721900,2212195500,1421412600,1926224500,0,1296810200,1680024400,1216834000,483984100,1375016100,1420447400,873713900,1262732800,1797904800,1793426600,1302687200,1709241600,1692786200,1448401000,1765055700,1643504700,1240120700,1620926200,1545082800,1633383900,2236521700,1343288100,1753263000,612128700,2203836100,2223567800,1874255200,2421482700,2500238100,2498930800,2249533900,1464514700,1612017900,1868625400,1796561200,1617010200,1445335900,1412999200,1592221400,1471538100,1582073100,1773613400,2044657000,1924042900,0,2110369700,3191426200,2201535600,2136295000,1957062400,2522843200,2646519300,4677892400,3225661100,2627625600,3748928400,5495155700,4067029300,3637973700,4217153600,5628397600,4528187900,0,3614066700,3605374900,2519508100,2199674300,2553435900,2876326600,2879977600,2560937400,1870630600,1834036600,2535034600,1840854100,1725334600,2050447800,1906625200,1865473400,1937579000,1375091600,2160661700,1668362400,1814344800,1301664900,1592713000,1687557300,1648009000,2556774000,1332967300,0,1317060000,1274113200,1458200000,1479628600,1359038500,1697720800,1509478600,1645114700,2022987500,1432021300,1474345000,3680989100,1769029000,1421148200,1837146100,2356792600,3621412000,2569148800,1813293900,2455118300,1888873500,2397618300,2123439500,2203396500,1971349200,1838958200,1824519600,2104538300,1611589900,1278279300,1811327100,2390285700,1612294200,1549053700,1431913700,1509260100,1835855400,1892323300,2746546400,2320568900,4883381900,3913840700,2582679500,2452681700,2142150800,2127288800,2180279200,1849317300,1935051700,1362500400,1650620500,1752171900,2390051200,0,3029706400,1491211000,1358418200,1080335100,1779681900,1763233900,2012723100,1906615900,1477936300,1596206100,1610164700,1256444100,1628363900,1763950100,1761196500,1429766800,1955689100,1534776000,1132238600,1995701500,1210267900,1352263800,1350837400,1319876200,1701268300,2065272600,3195378200,1729452000,2349955800,2007341100,3393745100,1682872900,2074591000,1749348400,1349478000,1306598900,1091380700,1733769600,1303202100,1630900300,2301812900,1602081500,1553227700,1642933400,1913657500,1794075400,1446839400,1526746600,1453016000,1420427500,1325452200,1537076100,1182030300,1358969500,2430403500,2550042800,2134202800,2697525100,2282400000,2735820000,2935550000,2741810000,2964780000,2689550000,2681310000,2899730000,2708880000,2889910000,2166470000,2285680000,2677530000,2462430000,2418490000,2289070000,2343940000,2540220000,2508720000,2438260000,2354020000,2664950000,1858050000,958950000,2011180000,2067360000,2390260000,1983460000,2542820000,2621020000,2635810000,2833870000,2475160000,2367560000,2246060000,2412300000,2143520000,2200510000,2665240000,2595400000,2899950000,3258090000,4534120000,1647270000,2558940000,2415870000,2199090000,2098560000,2261800000,2607290000,2579550000,2507550000,2380290000,2422590000,2179080000,2066500000,1942210000,2038090000,2149580000,2128840000,2451240000,2380950000,2274420000,2400290000,2440840000,2435480000,2089690000,2544050000,2918710000,2383430000,2099470000,2265520000,2167130000,2295080000,2086260000,1897800000,2124330000,2093800000,2103370000,2257750000,2120790000,2181760000,2119080000,2417680000,2363140000,2257710000,2423360000,2647080000,2463190000,2569590000,2142610000,2242810000,2440840000,2245430000,2226950000,2161400000,2366350000,2176510000,3447190000,2274490000,2433160000,2424400000,2483580000,2490730000,2130230000,2068900000,2221650000,1902060000,2233470000,2198050000,2110100000,2487210000,2094200000,2148730000,2069190000,2067570000,1998280000,1956840000,1955290000,1816920000,2095330000,2290690000,2089360000,1776060000,2075070000,2022490000,2063270000,1971270000,1761110000,2115770000,2247420000,2158600000,2046040000,1966120000,2376660000,2175100000,2520770000,2387720000,2478860000,2084850000,2001530000,2163120000,2134120000,2122410000,1993210000,1881830000,2243420000,1682920000,2352670000,2278790000,1872000000,2236940000,2576920000,2369150000,2115570000,2070940000,2066020000,2049370000,2114680000,1952790000,1838930000,1804340000,1935290000,2244920000,2014080000,2053530000,2894340000,2070370000,2127310000,2104750000,2023120000,4078990000,2208900000,1946320000,1548190000,149410000,177320000,1866770000,2060510000,1966970000,1824870000,1783980000,1933960000,1846960000,2016310000,1878730000,1845770000,1832220000,1947550000,2023130000,1954350000,1874780000,1884300000,2667060000,2792650000,2252550000,2636740000,2201610000,2453230000,2415670000,2224330000,2056360000,2346980000,2522870000,2182590000,1995130000,1934980000,1747580000,1716370000,1777630000,2207070000,1688860000,1913760000,1656930000,1700840000,1665840000,1936210000,1891300000,2096300000,1876380000,2172240000,2362860000,2310440000,2159260000,1976770000,1869220000,1850340000,2034880000,1792700000,3359380000,1780160000,2302600000,2015270000,1832800000,2037720000,1805820000,2243650000,2495160000,2141490000,1736890000,1739450000,1933580000,1553900000,1778740000,2176080000,1419730000,1836650000,1886720000,1861570000,2012930000,1752860000,1847200000,1805030000,1882490000,1894740000,1956280000,1834530000,1928420000,2258270000,2057310000,2149910000,2316710000,2332650000,2393950000,1974190000,1715470000,1987820000,2173320000,2106550000,2188210000,2047240000,2075000000,2596030000,2056230000,1877090000,2256070000,2434570000,1744580000,1099090000,2225940000,2308600000,2150680000,2123380000,2053530000,2088520000,2053390000,1937850000,2388270000,2188720000,2346290000,2374120000,2727870000,2415950000,3825460000,2025450000,1014520000,1634920000,1832200000,2042420000,2182800000,2848370000,2567400000,2788120000,2352850000,2464090000,2534700000,2378990000,2530270000,2542170000,2435650000,2301400000,2522670000,2684540000,2449390000,2460050000,2611710000,2583330000,2157830000,2223480000,2333500000,2685840000,2420510000,2445420000,2462470000,2267300000,2238670000,2179310000,2423670000,2355000000,2239270000,2222240000,2273460000,2462530000,2735610000,2743010000,3177000000,3583400000,3567830000,4536080000,5301170000,4232760000,4336700000,3602870000,3748090000,4279850000,4530350000,4431930000,4273890000,5066530000,4685890000,4594360000,4900000000,4890820000,4762170000,5239940000,4330610000,4417380000,4666440000,3999850000,3977010000,3846900000,4059700000,3685510000,3608190000,3279100000,3849100000,4069410000,3470730000,4123670000,3146860000,3732820000,3333750000,3995870000,4335020000,3796950000,3756290000,3025060000,3734720000,3673170000,3678460000,3707540000,4378540000,4316380000,3722520000,3422150000,3913360000,3620030000,3762070000,3777340000,3898690000,4315070000,4244110000,3945080000,4221500000,4318310000,4144770000,4292470000,3725950000,3641830000,4432310000,4462450000,4064220000,423570000,3824770000,3962460000,4638380000,6074320000,6572850000,6143120000,5281860000,5128400000,5271000000,4366190000,4440650000,4639860000,4249680000,4294740000,6068130000,4468000000,5712450000,5549440000,4709620000,7279230000,4306120000,4474000000,4595970000,4017530000,4529480000,4314110000,3999180000,3992920000,3509810000,4822050000,4419480000,4610540000,4237290000,4334280000,4274340000,5311750000,4074020000,4469470000,4205330000,4209900000,3869230000,3970900000,4135200000,4418390000,4173600000,3973570000,4119550000,4086290000,4230720000,4018530000,4303980000,3716840000,3444140000,3491320000,3193160000,3199470000,3467890000,4170980000,3905670000,3885880000,3454500000,3441550000,3535800000,2997810000,3596980000,3480780000,3966140000,4437500000,4269190000,3872230000,3531780000,3814100000,3609190000,3716820000,3772820000,3661710000,3726750000,5745690000,3885200000,3492020000,4074600000,4080730000,3767230000,3562900000,3363870000,4228200000,3978100000,3715090000,3597940000,4360550000,3891460000,3486530000,3475620000,3862990000,3607730000,3393010000,3304490000,3156270000,63000,80200,83900,93600,92900,70800,116900,105000,101900,101900,78700,0,96300,81900,78100,59300,85700,75200,0,74900,72100,82500,77300,65900,78000,74000,77600,69300,104100,70500,89600,83700,87600,78100,79000,87500,89600,79200,102800,63400,80500,81300,96300,116600,0,79900,93000,70600,91600,81500,86400,72800,73700,77700,78300,69500,63600,64700,61200,57100,0,61400,68400,56800,63100,72100,75700,82200,66600,65500,68900,70600,86200,84100,78600,64500,65600,61800,53600,59700,68400,52400,51800,56400,67700,71500,62600,59100,59200,57100,75200,99800,55600,67800,66200,64100,83200,55200,59900,65300,78900,77700,101300,76000,71100,61600,77400,71000,68500,57900,58500,54600,54300,58700,61200,61600,66100,57300,75400,67300,0,42900,52000,67900,63300,71900,90700,85700,96900,98500,74500,90200,84100,82500,75800,65100,70100,64500,63900,67700,41600,98500,70000,58700,79100,67400,69200,72300,59600,50700,58200,52100,56500,65700,60400,49100,54600,64100,55700,89000,43200,53900,50300,61300,62100,66900,54700,55000,37800,44800,51900,53900,58900,49600,45400,49800,53300,70200,57900,46900,48100,51100,46900,47600,47000,54500,76500,75700,91500,85800,89700,73600,64800,63700,72900,60900,68200,58400,50600,50100,53000,54600,50700,69900,60800,51500,55100,72000,42400,0,51500,83000,71100,57800,92400,110100,96000,116300,81500,69400,78200,85000,68400,61600,81600,76400,69900,62300,63300,67700,57700,47400,60800,55400,59900,67400,74500,78700,57800,59200,48400,68000,61300,57200,48100,72900,101600,78300,65400,102100,77400,70900,94600,61500,63000,63400,79900,72200,57300,64200,65700,69800,55600,50300,94300,52200,44800,52100,47700,58800,58100,61400,54400,55800,52800,61300,56300,115500,53300,64000,66300,55600,70300,45200,37900,31600,40300,44800,41600,72800,64300,79400,62200,55900,64200,57200,55400,59400,38300,44600,49000,55500,48700,62400,64400,54900,69600,75400,72500,67900,70300,95100,65400,56500,74600,64500,69100,54000,59500,61600,63300,62100,105800,99300,106200,148500,123700,105300,94600,85700,111700,170300,164700,129200,164600,233400,158100,198800,177200,198900,170300,147300,147700,128100,148900,121000,122200,105800,107300,96000,105700,108200,105900,82300,87500,65600,81900,94100,81400,87800,65000,79400,76400,72600,84700,77600,68600,103400,86600,82900,82200,76200,67700,79500,76900,75200,71900,93000,71800,62900,71100,55100,87200,112000,134000,153200,72200,77900,94100,92000,85600,108500,91500,75600,105900,120500,78500,100100,72500,65200,97000,54600,0,67000,80800,66600,73700,74200,67400,73600,51700,58000,62700,64900,65200,78800,71200,61000,72600,89400,55900,50000,68600,65400,71800,67800,74300,77800,106600,84000,89100,74000,62600,66700,99300,90800,84800,59800,43600,55600,50100,50200,51200,40600,75300,47800,52700,98100,81000,59600,52600,57500,59300,57300,62100,84400,67600,76900,65400,61800,63000,61100,82600,77000,70500,72200,82000,61300,88200,0,86300,59500,57700,52100,56300,56100,44900,47200,54000,48300,48100,0],\"index\":[0,1,2,3,4,5,6,7,8,9,10,11,12,13,14,15,16,17,18,19,20,21,22,23,24,25,26,27,28,29,30,31,32,33,34,35,36,37,38,39,40,41,42,43,44,45,46,47,48,49,50,51,52,53,54,55,56,57,58,59,60,61,62,63,64,65,66,67,68,69,70,71,72,73,74,75,76,77,78,79,80,81,82,83,84,85,86,87,88,89,90,91,92,93,94,95,96,97,98,99,100,101,102,103,104,105,106,107,108,109,110,111,112,113,114,115,116,117,118,119,120,121,122,123,124,125,126,127,128,129,130,131,132,133,134,135,136,137,138,139,140,141,142,143,144,145,146,147,148,149,150,151,152,153,154,155,156,157,158,159,160,161,162,163,164,165,166,167,168,169,170,171,172,173,174,175,176,177,178,179,180,181,182,183,184,185,186,187,188,189,190,191,192,193,194,195,196,197,198,199,200,201,202,203,204,205,206,207,208,209,210,211,212,213,214,215,216,217,218,219,220,221,222,223,224,225,226,227,228,229,230,231,232,233,234,235,236,237,238,239,240,241,242,243,244,245,246,247,248,249,250,251,252,253,254,255,256,257,258,259,260,261,262,263,264,265,266,267,268,269,270,271,272,273,274,275,276,277,278,279,280,281,282,283,284,285,286,287,288,289,290,291,292,293,294,295,296,297,298,299,300,301,302,303,304,305,306,307,308,309,310,311,312,313,314,315,316,317,318,319,320,321,322,323,324,325,326,327,328,329,330,331,332,333,334,335,336,337,338,339,340,341,342,343,344,345,346,347,348,349,350,351,352,353,354,355,356,357,358,359,360,361,362,363,364,365,366,367,368,369,370,371,372,373,374,375,376,377,378,379,380,381,382,383,384,385,386,387,388,389,390,391,392,393,394,395,396,397,398,399,400,401,402,403,404,405,406,407,408,409,410,411,412,413,414,415,416,417,418,419,420,421,422,423,424,425,426,427,428,429,430,431,432,433,434,435,436,437,438,439,440,441,442,443,444,445,446,447,448,449,450,451,452,453,454,455,456,457,458,459,460,461,462,463,464,465,466,467,468,469,470,471,472,473,474,475,476,477,478,479,480,481,482,483,484,485,486,487,488,489,490,491,492,493,494,495,496,497,498,499,500,501,502,503,504,505,506,507,508,509,510,511,512,513,514,515,516,517,518,519,520,521,522,523,524,525,526,527,528,529,530,531,532,533,534,535,536,537,538,539,540,541,542,543,544,545,546,547,548,549,550,551,552,553,554,555,556,557,558,559,560,561,562,563,564,565,566,567,568,569,570,571,572,573,574,575,576,577,578,579,580,581,582,583,584,585,586,587,588,589,590,591,592,593,594,595,596,597,598,599,600,601,602,603,604,605,606,607,608,609,610,611,612,613,614,615,616,617,618,619,620,621,622,623,624,625,626,627,628,629,630,631,632,633,634,635,636,637,638,639,640,641,642,643,644,645,646,647,648,649,650,651,652,653,654,655,656,657,658,659,660,661,662,663,664,665,666,667,668,669,670,671,672,673,674,675,676,677,678,679,680,681,682,683,684,685,686,687,688,689,690,691,692,693,694,695,696,697,698,699,700,701,702,703,704,705,706,707,708,709,710,711,712,713,714,715,716,717,718,719,720,721,722,723,724,725,726,727,728,729,730,731,732,733,734,735,736,737,738,739,740,741,742,743,744,745,746,747,748,749,750,751,752,753,754,755,756,757,758,759,760,761,762,763,764,765,766,767,768,769,770,771,772,773,774,775,776,777,778,779,780,781,782,783,784,785,786,787,788,789,790,791,792,793,794,795,796,797,798,799,800,801,802,803,804,805,806,807,808,809,810,811,812,813,814,815,816,817,818,819,820,821,822,823,824,825,826,827,828,829,830,831,832,833,834,835,836,837,838,839,840,841,842,843,844,845,846,847,848,849,850,851,852,853,854,855,856,857,858,859,860,861,862,863,864,865,866,867,868,869,870,871,872,873,874,875,876,877,878,879,880,881,882,883,884,885,886,887,888,889,890,891,892,893,894,895,896,897,898,899,900,901,902,903,904,905,906,907,908,909,910,911,912,913,914,915,916,917,918,919,920,921,922,923,924,925,926,927,928,929,930,931,932,933,934,935,936,937,938,939,940,941,942,943,944,945,946,947,948,949,950,951,952,953,954,955,956,957,958,959,960,961,962,963,964,965,966,967,968,969,970,971,972,973,974,975,976,977,978,979,980,981,982,983,984,985,986,987,988,989,990,991,992,993,994,995,996,997,998,999,1000,1001,1002,1003,1004,1005,1006,1007,1008,1009,1010,1011,1012,1013,1014,1015,1016,1017,1018,1019,1020,1021,1022,1023,1024,1025,1026,1027,1028,1029,1030,1031,1032,1033,1034,1035,1036,1037,1038,1039,1040,1041,1042,1043,1044,1045,1046,1047,1048,1049,1050,1051,1052,1053,1054,1055,1056,1057,1058,1059,1060,1061,1062,1063,1064,1065,1066,1067,1068,1069,1070,1071,1072,1073,1074,1075,1076,1077,1078,1079,1080,1081,1082,1083,1084,1085,1086,1087,1088,1089,1090,1091,1092,1093,1094,1095,1096,1097,1098,1099,1100,1101,1102,1103,1104,1105,1106,1107,1108,1109,1110,1111,1112,1113,1114,1115,1116,1117,1118,1119,1120,1121,1122,1123,1124,1125,1126,1127,1128,1129,1130,1131,1132,1133,1134,1135,1136,1137,1138,1139,1140,1141,1142,1143,1144,1145,1146,1147,1148,1149,1150,1151,1152,1153,1154,1155,1156,1157,1158,1159,1160,1161,1162,1163,1164,1165,1166,1167,1168,1169,1170,1171,1172,1173,1174,1175,1176,1177,1178,1179,1180,1181,1182,1183,1184,1185,1186,1187,1188,1189,1190,1191,1192,1193,1194,1195,1196,1197,1198,1199,1200,1201,1202,1203,1204,1205,1206,1207,1208,1209,1210,1211,1212,1213,1214,1215,1216,1217,1218,1219,1220,1221,1222,1223,1224,1225,1226,1227,1228,1229,1230,1231,1232,1233,1234,1235,1236,1237,1238,1239,1240,1241,1242,1243,1244,1245,1246,1247,1248,1249,1250,1251,1252,1253,1254,1255,1256,1257,1258,1259,1260,1261,1262,1263,1264,1265,1266,1267,1268,1269,1270,1271,1272,1273,1274,1275,1276,1277,1278,1279,1280,1281,1282,1283,1284,1285,1286,1287,1288,1289,1290,1291,1292,1293,1294,1295,1296,1297,1298,1299,1300,1301,1302,1303,1304,1305,1306,1307,1308,1309,1310,1311,1312,1313,1314,1315,1316,1317,1318,1319,1320,1321,1322,1323,1324,1325,1326,1327,1328,1329,1330,1331,1332,1333,1334,1335,1336,1337,1338,1339,1340,1341,1342,1343,1344,1345,1346,1347,1348,1349,1350,1351,1352,1353,1354,1355,1356,1357,1358,1359,1360,1361,1362,1363,1364,1365,1366,1367,1368,1369,1370,1371,1372,1373,1374,1375,1376,1377,1378,1379,1380,1381,1382,1383,1384,1385,1386,1387,1388,1389,1390,1391,1392,1393,1394,1395,1396,1397,1398,1399,1400,1401,1402,1403,1404,1405,1406,1407,1408,1409,1410,1411,1412,1413,1414,1415,1416,1417,1418,1419,1420,1421,1422,1423,1424,1425,1426,1427,1428,1429,1430,1431,1432,1433,1434,1435,1436,1437,1438,1439,1440,1441,1442,1443,1444,1445,1446,1447,1448,1449,1450,1451,1452,1453,1454,1455,1456,1457,1458,1459,1460,1461,1462,1463,1464,1465,1466,1467,1468,1469,1470,1471,1472,1473]},\"selected\":{\"id\":\"1116\"},\"selection_policy\":{\"id\":\"1117\"}},\"id\":\"1095\",\"type\":\"ColumnDataSource\"},{\"attributes\":{\"fill_alpha\":{\"value\":0.3},\"fill_color\":{\"value\":\"lightgray\"},\"line_alpha\":{\"value\":0.3},\"line_color\":{\"value\":\"lightgray\"},\"x\":{\"field\":\"Date\"},\"y\":{\"field\":\"AdjClose\"}},\"id\":\"1134\",\"type\":\"Circle\"},{\"attributes\":{\"fill_alpha\":{\"value\":0.7},\"fill_color\":{\"value\":\"#073278\"},\"line_alpha\":{\"value\":0.7},\"line_color\":{\"value\":\"#073278\"},\"x\":{\"field\":\"Date\"},\"y\":{\"field\":\"Volume\"}},\"id\":\"1250\",\"type\":\"Circle\"},{\"attributes\":{},\"id\":\"1011\",\"type\":\"LinearScale\"},{\"attributes\":{\"label\":{\"value\":\"HANG SENG\"},\"renderers\":[{\"id\":\"1195\"}]},\"id\":\"1219\",\"type\":\"LegendItem\"},{\"attributes\":{},\"id\":\"1038\",\"type\":\"DataRange1d\"},{\"attributes\":{\"fill_alpha\":{\"value\":0.3},\"fill_color\":{\"value\":\"lightgray\"},\"line_alpha\":{\"value\":0.3},\"line_color\":{\"value\":\"lightgray\"},\"x\":{\"field\":\"Date\"},\"y\":{\"field\":\"Volume\"}},\"id\":\"1222\",\"type\":\"Circle\"},{\"attributes\":{\"axis_label\":\"Date\",\"formatter\":{\"id\":\"1114\"},\"major_label_policy\":{\"id\":\"1112\"},\"ticker\":{\"id\":\"1014\"}},\"id\":\"1013\",\"type\":\"DatetimeAxis\"},{\"attributes\":{\"label\":{\"value\":\"NIKKEI\"},\"renderers\":[{\"id\":\"1313\"}]},\"id\":\"1336\",\"type\":\"LegendItem\"},{\"attributes\":{},\"id\":\"1042\",\"type\":\"LinearScale\"},{\"attributes\":{\"fill_alpha\":{\"value\":0.7},\"fill_color\":{\"value\":\"#e0e38f\"},\"line_alpha\":{\"value\":0.7},\"line_color\":{\"value\":\"#e0e38f\"},\"x\":{\"field\":\"Date\"},\"y\":{\"field\":\"Day_Perc_Change\"}},\"id\":\"1309\",\"type\":\"Circle\"},{\"attributes\":{\"num_minor_ticks\":5,\"tickers\":[{\"id\":\"1118\"},{\"id\":\"1119\"},{\"id\":\"1120\"},{\"id\":\"1121\"},{\"id\":\"1122\"},{\"id\":\"1123\"},{\"id\":\"1124\"},{\"id\":\"1125\"},{\"id\":\"1126\"},{\"id\":\"1127\"},{\"id\":\"1128\"},{\"id\":\"1129\"}]},\"id\":\"1014\",\"type\":\"DatetimeTicker\"},{\"attributes\":{\"fill_alpha\":{\"value\":0.1},\"fill_color\":{\"value\":\"#e0e38f\"},\"line_alpha\":{\"value\":0.1},\"line_color\":{\"value\":\"#e0e38f\"},\"x\":{\"field\":\"Date\"},\"y\":{\"field\":\"Volume\"}},\"id\":\"1224\",\"type\":\"Circle\"},{\"attributes\":{},\"id\":\"1056\",\"type\":\"ResetTool\"},{\"attributes\":{\"axis\":{\"id\":\"1013\"},\"ticker\":null},\"id\":\"1016\",\"type\":\"Grid\"},{\"attributes\":{},\"id\":\"1111\",\"type\":\"BasicTickFormatter\"},{\"attributes\":{},\"id\":\"1109\",\"type\":\"AllLabels\"},{\"attributes\":{},\"id\":\"1069\",\"type\":\"DataRange1d\"},{\"attributes\":{},\"id\":\"1018\",\"type\":\"BasicTicker\"},{\"attributes\":{\"fill_alpha\":{\"value\":0.1},\"fill_color\":{\"value\":\"#e0e38f\"},\"line_alpha\":{\"value\":0.1},\"line_color\":{\"value\":\"#e0e38f\"},\"x\":{\"field\":\"Date\"},\"y\":{\"field\":\"Day_Perc_Change\"}},\"id\":\"1312\",\"type\":\"Circle\"},{\"attributes\":{},\"id\":\"1117\",\"type\":\"UnionRenderers\"},{\"attributes\":{\"fill_alpha\":{\"value\":0.7},\"fill_color\":{\"value\":\"red\"},\"line_alpha\":{\"value\":0.7},\"line_color\":{\"value\":\"red\"},\"x\":{\"field\":\"Date\"},\"y\":{\"field\":\"Volume\"}},\"id\":\"1223\",\"type\":\"Circle\"},{\"attributes\":{\"days\":[1,15]},\"id\":\"1124\",\"type\":\"DaysTicker\"},{\"attributes\":{\"data_source\":{\"id\":\"1095\"},\"glyph\":{\"id\":\"1221\"},\"hover_glyph\":null,\"muted_glyph\":{\"id\":\"1224\"},\"nonselection_glyph\":{\"id\":\"1222\"},\"selection_glyph\":{\"id\":\"1223\"},\"view\":{\"id\":\"1099\"}},\"id\":\"1225\",\"type\":\"GlyphRenderer\"},{\"attributes\":{\"active_multi\":null,\"tools\":[{\"id\":\"1052\"},{\"id\":\"1053\"},{\"id\":\"1054\"},{\"id\":\"1055\"},{\"id\":\"1056\"},{\"id\":\"1388\"}]},\"id\":\"1058\",\"type\":\"Toolbar\"},{\"attributes\":{\"fill_alpha\":{\"value\":0.1},\"fill_color\":{\"value\":\"#e0e38f\"},\"line_alpha\":{\"value\":0.1},\"line_color\":{\"value\":\"#e0e38f\"},\"x\":{\"field\":\"Date\"},\"y\":{\"field\":\"AdjClose\"}},\"id\":\"1136\",\"type\":\"Circle\"},{\"attributes\":{\"fill_alpha\":{\"value\":0.7},\"fill_color\":{\"value\":\"#eb6777\"},\"line_alpha\":{\"value\":0.7},\"line_color\":{\"value\":\"#eb6777\"},\"x\":{\"field\":\"Date\"},\"y\":{\"field\":\"Day_Perc_Change\"}},\"id\":\"1279\",\"type\":\"Circle\"},{\"attributes\":{},\"id\":\"1129\",\"type\":\"YearsTicker\"},{\"attributes\":{\"fill_alpha\":{\"value\":0.1},\"fill_color\":{\"value\":\"#073278\"},\"line_alpha\":{\"value\":0.1},\"line_color\":{\"value\":\"#073278\"},\"x\":{\"field\":\"Date\"},\"y\":{\"field\":\"Volume\"}},\"id\":\"1253\",\"type\":\"Circle\"},{\"attributes\":{\"base\":24,\"mantissas\":[1,2,4,6,8,12],\"max_interval\":43200000.0,\"min_interval\":3600000.0,\"num_minor_ticks\":0},\"id\":\"1208\",\"type\":\"AdaptiveTicker\"},{\"attributes\":{\"fill_alpha\":{\"value\":0},\"fill_color\":{\"value\":\"#1f77b4\"},\"line_alpha\":{\"value\":0},\"line_color\":{\"value\":\"#1f77b4\"},\"size\":{\"value\":7},\"x\":{\"field\":\"Date\"},\"y\":{\"field\":\"AdjClose\"}},\"id\":\"1369\",\"type\":\"Circle\"},{\"attributes\":{\"fill_alpha\":{\"value\":0.7},\"fill_color\":{\"value\":\"red\"},\"line_alpha\":{\"value\":0.7},\"line_color\":{\"value\":\"red\"},\"x\":{\"field\":\"Date\"},\"y\":{\"field\":\"Volume\"}},\"id\":\"1252\",\"type\":\"Circle\"},{\"attributes\":{\"bottom_units\":\"screen\",\"fill_alpha\":0.5,\"fill_color\":\"lightgrey\",\"left_units\":\"screen\",\"level\":\"overlay\",\"line_alpha\":1.0,\"line_color\":\"black\",\"line_dash\":[4,4],\"line_width\":2,\"right_units\":\"screen\",\"syncable\":false,\"top_units\":\"screen\"},\"id\":\"1026\",\"type\":\"BoxAnnotation\"},{\"attributes\":{\"days\":[1,8,15,22]},\"id\":\"1123\",\"type\":\"DaysTicker\"},{\"attributes\":{\"fill_alpha\":{\"value\":0.3},\"fill_color\":{\"value\":\"lightgray\"},\"line_alpha\":{\"value\":0.3},\"line_color\":{\"value\":\"lightgray\"},\"x\":{\"field\":\"Date\"},\"y\":{\"field\":\"Volume\"}},\"id\":\"1251\",\"type\":\"Circle\"},{\"attributes\":{\"fill_alpha\":{\"value\":0},\"fill_color\":{\"value\":\"#1f77b4\"},\"line_alpha\":{\"value\":0},\"line_color\":{\"value\":\"#1f77b4\"},\"size\":{\"value\":7},\"x\":{\"field\":\"Date\"},\"y\":{\"field\":\"Volume\"}},\"id\":\"1375\",\"type\":\"Circle\"},{\"attributes\":{\"days\":[1,4,7,10,13,16,19,22,25,28]},\"id\":\"1122\",\"type\":\"DaysTicker\"},{\"attributes\":{\"fill_alpha\":{\"value\":0.7},\"fill_color\":{\"value\":\"#eb6777\"},\"line_alpha\":{\"value\":0.7},\"line_color\":{\"value\":\"#eb6777\"},\"x\":{\"field\":\"Date\"},\"y\":{\"field\":\"Volume\"}},\"id\":\"1191\",\"type\":\"Circle\"},{\"attributes\":{\"fill_alpha\":{\"value\":0.1},\"fill_color\":{\"value\":\"#073278\"},\"line_alpha\":{\"value\":0.1},\"line_color\":{\"value\":\"#073278\"},\"x\":{\"field\":\"Date\"},\"y\":{\"field\":\"Day_Perc_Change\"}},\"id\":\"1341\",\"type\":\"Circle\"},{\"attributes\":{\"tabs\":[{\"id\":\"1393\"},{\"id\":\"1394\"},{\"id\":\"1395\"}]},\"id\":\"1396\",\"type\":\"Tabs\"},{\"attributes\":{\"data_source\":{\"id\":\"1095\"},\"glyph\":{\"id\":\"1250\"},\"hover_glyph\":null,\"muted_glyph\":{\"id\":\"1253\"},\"nonselection_glyph\":{\"id\":\"1251\"},\"selection_glyph\":{\"id\":\"1252\"},\"view\":{\"id\":\"1101\"}},\"id\":\"1254\",\"type\":\"GlyphRenderer\"},{\"attributes\":{\"bottom_units\":\"screen\",\"fill_alpha\":0.5,\"fill_color\":\"lightgrey\",\"left_units\":\"screen\",\"level\":\"overlay\",\"line_alpha\":1.0,\"line_color\":\"black\",\"line_dash\":[4,4],\"line_width\":2,\"right_units\":\"screen\",\"syncable\":false,\"top_units\":\"screen\"},\"id\":\"1057\",\"type\":\"BoxAnnotation\"},{\"attributes\":{\"axis_label\":\"Adj Close\",\"formatter\":{\"id\":\"1111\"},\"major_label_policy\":{\"id\":\"1109\"},\"ticker\":{\"id\":\"1018\"}},\"id\":\"1017\",\"type\":\"LinearAxis\"},{\"attributes\":{\"fill_alpha\":{\"value\":0.3},\"fill_color\":{\"value\":\"lightgray\"},\"line_alpha\":{\"value\":0.3},\"line_color\":{\"value\":\"lightgray\"},\"x\":{\"field\":\"Date\"},\"y\":{\"field\":\"Day_Perc_Change\"}},\"id\":\"1339\",\"type\":\"Circle\"},{\"attributes\":{\"source\":{\"id\":\"1095\"}},\"id\":\"1373\",\"type\":\"CDSView\"},{\"attributes\":{\"fill_alpha\":{\"value\":0.3},\"fill_color\":{\"value\":\"lightgray\"},\"line_alpha\":{\"value\":0.3},\"line_color\":{\"value\":\"lightgray\"},\"x\":{\"field\":\"Date\"},\"y\":{\"field\":\"Day_Perc_Change\"}},\"id\":\"1280\",\"type\":\"Circle\"},{\"attributes\":{\"fill_alpha\":{\"value\":0.1},\"fill_color\":{\"value\":\"#1f77b4\"},\"line_alpha\":{\"value\":0.1},\"line_color\":{\"value\":\"#1f77b4\"},\"size\":{\"value\":7},\"x\":{\"field\":\"Date\"},\"y\":{\"field\":\"AdjClose\"}},\"id\":\"1370\",\"type\":\"Circle\"},{\"attributes\":{\"data_source\":{\"id\":\"1095\"},\"glyph\":{\"id\":\"1369\"},\"hover_glyph\":{\"id\":\"1371\"},\"muted_glyph\":null,\"nonselection_glyph\":{\"id\":\"1370\"},\"view\":{\"id\":\"1373\"}},\"id\":\"1372\",\"type\":\"GlyphRenderer\"},{\"attributes\":{},\"id\":\"1071\",\"type\":\"LinearScale\"},{\"attributes\":{\"fill_alpha\":{\"value\":0.1},\"fill_color\":{\"value\":\"#eb6777\"},\"line_alpha\":{\"value\":0.1},\"line_color\":{\"value\":\"#eb6777\"},\"x\":{\"field\":\"Date\"},\"y\":{\"field\":\"Day_Perc_Change\"}},\"id\":\"1282\",\"type\":\"Circle\"},{\"attributes\":{\"data_source\":{\"id\":\"1095\"},\"glyph\":{\"id\":\"1338\"},\"hover_glyph\":null,\"muted_glyph\":{\"id\":\"1341\"},\"nonselection_glyph\":{\"id\":\"1339\"},\"selection_glyph\":{\"id\":\"1340\"},\"view\":{\"id\":\"1101\"}},\"id\":\"1342\",\"type\":\"GlyphRenderer\"},{\"attributes\":{},\"id\":\"1052\",\"type\":\"PanTool\"},{\"attributes\":{},\"id\":\"1073\",\"type\":\"LinearScale\"},{\"attributes\":{\"fill_alpha\":{\"value\":0.5},\"fill_color\":{\"value\":\"red\"},\"line_alpha\":{\"value\":0.5},\"line_color\":{\"value\":\"#1f77b4\"},\"size\":{\"value\":7},\"x\":{\"field\":\"Date\"},\"y\":{\"field\":\"AdjClose\"}},\"id\":\"1371\",\"type\":\"Circle\"},{\"attributes\":{\"overlay\":{\"id\":\"1057\"}},\"id\":\"1053\",\"type\":\"BoxSelectTool\"},{\"attributes\":{\"fill_alpha\":{\"value\":0.7},\"fill_color\":{\"value\":\"red\"},\"line_alpha\":{\"value\":0.7},\"line_color\":{\"value\":\"red\"},\"x\":{\"field\":\"Date\"},\"y\":{\"field\":\"Day_Perc_Change\"}},\"id\":\"1340\",\"type\":\"Circle\"},{\"attributes\":{\"mantissas\":[1,2,5],\"max_interval\":500.0,\"num_minor_ticks\":0},\"id\":\"1294\",\"type\":\"AdaptiveTicker\"},{\"attributes\":{\"data_source\":{\"id\":\"1095\"},\"glyph\":{\"id\":\"1279\"},\"hover_glyph\":null,\"muted_glyph\":{\"id\":\"1282\"},\"nonselection_glyph\":{\"id\":\"1280\"},\"selection_glyph\":{\"id\":\"1281\"},\"view\":{\"id\":\"1097\"}},\"id\":\"1283\",\"type\":\"GlyphRenderer\"},{\"attributes\":{\"axis_label\":\"Date\",\"formatter\":{\"id\":\"1290\"},\"major_label_policy\":{\"id\":\"1288\"},\"ticker\":{\"id\":\"1076\"}},\"id\":\"1075\",\"type\":\"DatetimeAxis\"},{\"attributes\":{\"label\":{\"value\":\"NASDAQ\"},\"renderers\":[{\"id\":\"1254\"}]},\"id\":\"1277\",\"type\":\"LegendItem\"},{\"attributes\":{},\"id\":\"1285\",\"type\":\"AllLabels\"},{\"attributes\":{},\"id\":\"1080\",\"type\":\"BasicTicker\"},{\"attributes\":{\"fill_alpha\":{\"value\":0},\"fill_color\":{\"value\":\"#1f77b4\"},\"line_alpha\":{\"value\":0},\"line_color\":{\"value\":\"#1f77b4\"},\"size\":{\"value\":7},\"x\":{\"field\":\"Date\"},\"y\":{\"field\":\"Day_Perc_Change\"}},\"id\":\"1381\",\"type\":\"Circle\"},{\"attributes\":{\"filters\":[{\"id\":\"1100\"}],\"source\":{\"id\":\"1095\"}},\"id\":\"1101\",\"type\":\"CDSView\"},{\"attributes\":{\"num_minor_ticks\":5,\"tickers\":[{\"id\":\"1294\"},{\"id\":\"1295\"},{\"id\":\"1296\"},{\"id\":\"1297\"},{\"id\":\"1298\"},{\"id\":\"1299\"},{\"id\":\"1300\"},{\"id\":\"1301\"},{\"id\":\"1302\"},{\"id\":\"1303\"},{\"id\":\"1304\"},{\"id\":\"1305\"}]},\"id\":\"1076\",\"type\":\"DatetimeTicker\"},{\"attributes\":{\"fill_alpha\":{\"value\":0.7},\"fill_color\":{\"value\":\"red\"},\"line_alpha\":{\"value\":0.7},\"line_color\":{\"value\":\"red\"},\"x\":{\"field\":\"Date\"},\"y\":{\"field\":\"Day_Perc_Change\"}},\"id\":\"1281\",\"type\":\"Circle\"},{\"attributes\":{\"child\":{\"id\":\"1064\"},\"title\":\"Day_Perc_Change\"},\"id\":\"1395\",\"type\":\"Panel\"},{\"attributes\":{\"axis\":{\"id\":\"1075\"},\"ticker\":null},\"id\":\"1078\",\"type\":\"Grid\"},{\"attributes\":{\"source\":{\"id\":\"1095\"}},\"id\":\"1379\",\"type\":\"CDSView\"},{\"attributes\":{\"callback\":null,\"renderers\":[{\"id\":\"1378\"}],\"tooltips\":[[\"Name\",\"@Name\"],[\"Volume\",\"@Volume\"]]},\"id\":\"1388\",\"type\":\"HoverTool\"},{\"attributes\":{},\"id\":\"1287\",\"type\":\"BasicTickFormatter\"},{\"attributes\":{\"data_source\":{\"id\":\"1095\"},\"glyph\":{\"id\":\"1375\"},\"hover_glyph\":{\"id\":\"1377\"},\"muted_glyph\":null,\"nonselection_glyph\":{\"id\":\"1376\"},\"view\":{\"id\":\"1379\"}},\"id\":\"1378\",\"type\":\"GlyphRenderer\"},{\"attributes\":{\"axis\":{\"id\":\"1079\"},\"dimension\":1,\"ticker\":null},\"id\":\"1082\",\"type\":\"Grid\"},{\"attributes\":{\"axis_label\":\"Day_Perc_Change\",\"formatter\":{\"id\":\"1287\"},\"major_label_policy\":{\"id\":\"1285\"},\"ticker\":{\"id\":\"1080\"}},\"id\":\"1079\",\"type\":\"LinearAxis\"},{\"attributes\":{\"click_policy\":\"hide\",\"items\":[{\"id\":\"1307\"},{\"id\":\"1336\"},{\"id\":\"1365\"}]},\"id\":\"1306\",\"type\":\"Legend\"},{\"attributes\":{\"active_multi\":null,\"tools\":[{\"id\":\"1021\"},{\"id\":\"1022\"},{\"id\":\"1023\"},{\"id\":\"1024\"},{\"id\":\"1025\"},{\"id\":\"1386\"}]},\"id\":\"1027\",\"type\":\"Toolbar\"},{\"attributes\":{\"child\":{\"id\":\"1002\"},\"title\":\"Adj Close\"},\"id\":\"1393\",\"type\":\"Panel\"},{\"attributes\":{\"fill_alpha\":{\"value\":0.5},\"fill_color\":{\"value\":\"red\"},\"line_alpha\":{\"value\":0.5},\"line_color\":{\"value\":\"#1f77b4\"},\"size\":{\"value\":7},\"x\":{\"field\":\"Date\"},\"y\":{\"field\":\"Volume\"}},\"id\":\"1377\",\"type\":\"Circle\"},{\"attributes\":{\"label\":{\"value\":\"NASDAQ\"},\"renderers\":[{\"id\":\"1342\"}]},\"id\":\"1365\",\"type\":\"LegendItem\"},{\"attributes\":{\"base\":60,\"mantissas\":[1,2,5,10,15,20,30],\"max_interval\":1800000.0,\"min_interval\":1000.0,\"num_minor_ticks\":0},\"id\":\"1295\",\"type\":\"AdaptiveTicker\"},{\"attributes\":{},\"id\":\"1288\",\"type\":\"AllLabels\"},{\"attributes\":{\"callback\":null,\"renderers\":[{\"id\":\"1372\"}],\"tooltips\":[[\"Name\",\"@Name\"],[\"Adj Close\",\"@AdjClose\"]]},\"id\":\"1386\",\"type\":\"HoverTool\"},{\"attributes\":{\"column_name\":\"Name\",\"group\":\"HANG SENG\"},\"id\":\"1096\",\"type\":\"GroupFilter\"},{\"attributes\":{\"base\":24,\"mantissas\":[1,2,4,6,8,12],\"max_interval\":43200000.0,\"min_interval\":3600000.0,\"num_minor_ticks\":0},\"id\":\"1296\",\"type\":\"AdaptiveTicker\"},{\"attributes\":{},\"id\":\"1290\",\"type\":\"DatetimeTickFormatter\"},{\"attributes\":{\"column_name\":\"Name\",\"group\":\"NIKKEI\"},\"id\":\"1098\",\"type\":\"GroupFilter\"},{\"attributes\":{\"filters\":[{\"id\":\"1098\"}],\"source\":{\"id\":\"1095\"}},\"id\":\"1099\",\"type\":\"CDSView\"},{\"attributes\":{},\"id\":\"1083\",\"type\":\"PanTool\"},{\"attributes\":{\"source\":{\"id\":\"1095\"}},\"id\":\"1385\",\"type\":\"CDSView\"},{\"attributes\":{\"fill_alpha\":{\"value\":0.1},\"fill_color\":{\"value\":\"#1f77b4\"},\"line_alpha\":{\"value\":0.1},\"line_color\":{\"value\":\"#1f77b4\"},\"size\":{\"value\":7},\"x\":{\"field\":\"Date\"},\"y\":{\"field\":\"Day_Perc_Change\"}},\"id\":\"1382\",\"type\":\"Circle\"},{\"attributes\":{\"data_source\":{\"id\":\"1095\"},\"glyph\":{\"id\":\"1381\"},\"hover_glyph\":{\"id\":\"1383\"},\"muted_glyph\":null,\"nonselection_glyph\":{\"id\":\"1382\"},\"view\":{\"id\":\"1385\"}},\"id\":\"1384\",\"type\":\"GlyphRenderer\"},{\"attributes\":{\"fill_alpha\":{\"value\":0.3},\"fill_color\":{\"value\":\"lightgray\"},\"line_alpha\":{\"value\":0.3},\"line_color\":{\"value\":\"lightgray\"},\"x\":{\"field\":\"Date\"},\"y\":{\"field\":\"Volume\"}},\"id\":\"1192\",\"type\":\"Circle\"},{\"attributes\":{\"overlay\":{\"id\":\"1088\"}},\"id\":\"1084\",\"type\":\"BoxSelectTool\"},{\"attributes\":{},\"id\":\"1036\",\"type\":\"DataRange1d\"},{\"attributes\":{},\"id\":\"1085\",\"type\":\"WheelZoomTool\"},{\"attributes\":{\"days\":[1,2,3,4,5,6,7,8,9,10,11,12,13,14,15,16,17,18,19,20,21,22,23,24,25,26,27,28,29,30,31]},\"id\":\"1297\",\"type\":\"DaysTicker\"},{\"attributes\":{\"text\":\"Day_Perc_Change\"},\"id\":\"1065\",\"type\":\"Title\"},{\"attributes\":{\"fill_alpha\":{\"value\":0.7},\"fill_color\":{\"value\":\"red\"},\"line_alpha\":{\"value\":0.7},\"line_color\":{\"value\":\"red\"},\"x\":{\"field\":\"Date\"},\"y\":{\"field\":\"Volume\"}},\"id\":\"1193\",\"type\":\"Circle\"},{\"attributes\":{\"child\":{\"id\":\"1033\"},\"title\":\"Volume\"},\"id\":\"1394\",\"type\":\"Panel\"},{\"attributes\":{\"callback\":null},\"id\":\"1086\",\"type\":\"TapTool\"},{\"attributes\":{\"fill_alpha\":{\"value\":0.5},\"fill_color\":{\"value\":\"red\"},\"line_alpha\":{\"value\":0.5},\"line_color\":{\"value\":\"#1f77b4\"},\"size\":{\"value\":7},\"x\":{\"field\":\"Date\"},\"y\":{\"field\":\"Day_Perc_Change\"}},\"id\":\"1383\",\"type\":\"Circle\"},{\"attributes\":{\"days\":[1,4,7,10,13,16,19,22,25,28]},\"id\":\"1298\",\"type\":\"DaysTicker\"},{\"attributes\":{},\"id\":\"1025\",\"type\":\"ResetTool\"},{\"attributes\":{},\"id\":\"1087\",\"type\":\"ResetTool\"},{\"attributes\":{\"days\":[1,8,15,22]},\"id\":\"1299\",\"type\":\"DaysTicker\"},{\"attributes\":{},\"id\":\"1021\",\"type\":\"PanTool\"},{\"attributes\":{\"filters\":[{\"id\":\"1096\"}],\"source\":{\"id\":\"1095\"}},\"id\":\"1097\",\"type\":\"CDSView\"},{\"attributes\":{\"days\":[1,15]},\"id\":\"1300\",\"type\":\"DaysTicker\"},{\"attributes\":{\"callback\":null,\"renderers\":[{\"id\":\"1384\"}],\"tooltips\":[[\"Name\",\"@Name\"],[\"Day_Perc_Change\",\"@Day_Perc_Change\"]]},\"id\":\"1390\",\"type\":\"HoverTool\"},{\"attributes\":{\"months\":[0,1,2,3,4,5,6,7,8,9,10,11]},\"id\":\"1301\",\"type\":\"MonthsTicker\"},{\"attributes\":{\"months\":[0,2,4,6,8,10]},\"id\":\"1302\",\"type\":\"MonthsTicker\"},{\"attributes\":{\"months\":[0,4,8]},\"id\":\"1303\",\"type\":\"MonthsTicker\"},{\"attributes\":{\"mantissas\":[1,2,5],\"max_interval\":500.0,\"num_minor_ticks\":0},\"id\":\"1206\",\"type\":\"AdaptiveTicker\"},{\"attributes\":{\"label\":{\"value\":\"NIKKEI\"},\"renderers\":[{\"id\":\"1225\"}]},\"id\":\"1248\",\"type\":\"LegendItem\"},{\"attributes\":{\"months\":[0,6]},\"id\":\"1304\",\"type\":\"MonthsTicker\"},{\"attributes\":{\"label\":{\"value\":\"NIKKEI\"},\"renderers\":[{\"id\":\"1137\"}]},\"id\":\"1160\",\"type\":\"LegendItem\"},{\"attributes\":{},\"id\":\"1305\",\"type\":\"YearsTicker\"},{\"attributes\":{\"fill_alpha\":{\"value\":0.7},\"fill_color\":{\"value\":\"#e0e38f\"},\"line_alpha\":{\"value\":0.7},\"line_color\":{\"value\":\"#e0e38f\"},\"x\":{\"field\":\"Date\"},\"y\":{\"field\":\"AdjClose\"}},\"id\":\"1133\",\"type\":\"Circle\"},{\"attributes\":{\"fill_alpha\":{\"value\":0.7},\"fill_color\":{\"value\":\"#073278\"},\"line_alpha\":{\"value\":0.7},\"line_color\":{\"value\":\"#073278\"},\"x\":{\"field\":\"Date\"},\"y\":{\"field\":\"Day_Perc_Change\"}},\"id\":\"1338\",\"type\":\"Circle\"},{\"attributes\":{\"overlay\":{\"id\":\"1026\"}},\"id\":\"1022\",\"type\":\"BoxSelectTool\"},{\"attributes\":{\"fill_alpha\":{\"value\":0.7},\"fill_color\":{\"value\":\"#073278\"},\"line_alpha\":{\"value\":0.7},\"line_color\":{\"value\":\"#073278\"},\"x\":{\"field\":\"Date\"},\"y\":{\"field\":\"AdjClose\"}},\"id\":\"1162\",\"type\":\"Circle\"},{\"attributes\":{\"label\":{\"value\":\"HANG SENG\"},\"renderers\":[{\"id\":\"1283\"}]},\"id\":\"1307\",\"type\":\"LegendItem\"},{\"attributes\":{\"fill_alpha\":{\"value\":0.3},\"fill_color\":{\"value\":\"lightgray\"},\"line_alpha\":{\"value\":0.3},\"line_color\":{\"value\":\"lightgray\"},\"x\":{\"field\":\"Date\"},\"y\":{\"field\":\"Day_Perc_Change\"}},\"id\":\"1310\",\"type\":\"Circle\"},{\"attributes\":{\"axis\":{\"id\":\"1017\"},\"dimension\":1,\"ticker\":null},\"id\":\"1020\",\"type\":\"Grid\"},{\"attributes\":{\"callback\":null},\"id\":\"1024\",\"type\":\"TapTool\"},{\"attributes\":{\"active_multi\":null,\"tools\":[{\"id\":\"1083\"},{\"id\":\"1084\"},{\"id\":\"1085\"},{\"id\":\"1086\"},{\"id\":\"1087\"},{\"id\":\"1390\"}]},\"id\":\"1089\",\"type\":\"Toolbar\"},{\"attributes\":{\"fill_alpha\":{\"value\":0.7},\"fill_color\":{\"value\":\"red\"},\"line_alpha\":{\"value\":0.7},\"line_color\":{\"value\":\"red\"},\"x\":{\"field\":\"Date\"},\"y\":{\"field\":\"Day_Perc_Change\"}},\"id\":\"1311\",\"type\":\"Circle\"},{\"attributes\":{\"column_name\":\"Name\",\"group\":\"NASDAQ\"},\"id\":\"1100\",\"type\":\"GroupFilter\"},{\"attributes\":{},\"id\":\"1023\",\"type\":\"WheelZoomTool\"},{\"attributes\":{\"bottom_units\":\"screen\",\"fill_alpha\":0.5,\"fill_color\":\"lightgrey\",\"left_units\":\"screen\",\"level\":\"overlay\",\"line_alpha\":1.0,\"line_color\":\"black\",\"line_dash\":[4,4],\"line_width\":2,\"right_units\":\"screen\",\"syncable\":false,\"top_units\":\"screen\"},\"id\":\"1088\",\"type\":\"BoxAnnotation\"},{\"attributes\":{\"fill_alpha\":{\"value\":0.7},\"fill_color\":{\"value\":\"#e0e38f\"},\"line_alpha\":{\"value\":0.7},\"line_color\":{\"value\":\"#e0e38f\"},\"x\":{\"field\":\"Date\"},\"y\":{\"field\":\"Volume\"}},\"id\":\"1221\",\"type\":\"Circle\"},{\"attributes\":{\"data_source\":{\"id\":\"1095\"},\"glyph\":{\"id\":\"1309\"},\"hover_glyph\":null,\"muted_glyph\":{\"id\":\"1312\"},\"nonselection_glyph\":{\"id\":\"1310\"},\"selection_glyph\":{\"id\":\"1311\"},\"view\":{\"id\":\"1099\"}},\"id\":\"1313\",\"type\":\"GlyphRenderer\"},{\"attributes\":{\"text\":\"<h3>Visualisasi Data</h3>\\n<br>\\n\"},\"id\":\"1392\",\"type\":\"Div\"}],\"root_ids\":[\"1397\"]},\"title\":\"Bokeh Application\",\"version\":\"2.3.2\"}};\n",
              "  var render_items = [{\"docid\":\"0196caae-0a89-4ad3-81e8-232b58103985\",\"root_ids\":[\"1397\"],\"roots\":{\"1397\":\"c51a0f91-899e-4f4b-a768-6119ce987e3f\"}}];\n",
              "  root.Bokeh.embed.embed_items_notebook(docs_json, render_items);\n",
              "\n",
              "  }\n",
              "  if (root.Bokeh !== undefined) {\n",
              "    embed_document(root);\n",
              "  } else {\n",
              "    var attempts = 0;\n",
              "    var timer = setInterval(function(root) {\n",
              "      if (root.Bokeh !== undefined) {\n",
              "        clearInterval(timer);\n",
              "        embed_document(root);\n",
              "      } else {\n",
              "        attempts++;\n",
              "        if (attempts > 100) {\n",
              "          clearInterval(timer);\n",
              "          console.log(\"Bokeh: ERROR: Unable to run BokehJS code because BokehJS library is missing\");\n",
              "        }\n",
              "      }\n",
              "    }, 10, root)\n",
              "  }\n",
              "})(window);"
            ],
            "application/vnd.bokehjs_exec.v0+json": ""
          },
          "metadata": {
            "tags": [],
            "application/vnd.bokehjs_exec.v0+json": {
              "id": "1397"
            }
          }
        }
      ]
    }
  ]
}